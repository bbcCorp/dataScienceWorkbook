{
 "cells": [
  {
   "cell_type": "code",
   "execution_count": 1,
   "metadata": {},
   "outputs": [],
   "source": [
    "import pandas as pd"
   ]
  },
  {
   "cell_type": "markdown",
   "metadata": {},
   "source": [
    "Lets start by creating a simple DataFrame of weekdays, monuments and (imaginary) number of visitors. We will then use pivot function to rearrange columns in a DataFrame to get a different view of our data."
   ]
  },
  {
   "cell_type": "code",
   "execution_count": 14,
   "metadata": {},
   "outputs": [
    {
     "data": {
      "text/html": [
       "<div>\n",
       "<table border=\"1\" class=\"dataframe\">\n",
       "  <thead>\n",
       "    <tr style=\"text-align: right;\">\n",
       "      <th></th>\n",
       "      <th>guides</th>\n",
       "      <th>monument</th>\n",
       "      <th>visitors</th>\n",
       "      <th>weekday</th>\n",
       "    </tr>\n",
       "  </thead>\n",
       "  <tbody>\n",
       "    <tr>\n",
       "      <th>0</th>\n",
       "      <td>100</td>\n",
       "      <td>taj mahal</td>\n",
       "      <td>14579</td>\n",
       "      <td>sat</td>\n",
       "    </tr>\n",
       "    <tr>\n",
       "      <th>1</th>\n",
       "      <td>125</td>\n",
       "      <td>taj mahal</td>\n",
       "      <td>29435</td>\n",
       "      <td>sun</td>\n",
       "    </tr>\n",
       "    <tr>\n",
       "      <th>2</th>\n",
       "      <td>75</td>\n",
       "      <td>red fort</td>\n",
       "      <td>12561</td>\n",
       "      <td>sat</td>\n",
       "    </tr>\n",
       "    <tr>\n",
       "      <th>3</th>\n",
       "      <td>100</td>\n",
       "      <td>red fort</td>\n",
       "      <td>14989</td>\n",
       "      <td>sun</td>\n",
       "    </tr>\n",
       "  </tbody>\n",
       "</table>\n",
       "</div>"
      ],
      "text/plain": [
       "   guides   monument  visitors weekday\n",
       "0     100  taj mahal     14579     sat\n",
       "1     125  taj mahal     29435     sun\n",
       "2      75   red fort     12561     sat\n",
       "3     100   red fort     14989     sun"
      ]
     },
     "execution_count": 14,
     "metadata": {},
     "output_type": "execute_result"
    }
   ],
   "source": [
    "data = {\n",
    "    'weekday' : ['sat', 'sun', 'sat', 'sun'],\n",
    "    'monument': ['taj mahal', 'taj mahal', 'red fort', 'red fort' ],\n",
    "    'visitors': [ 14579, 29435, 12561, 14989 ], \n",
    "    'guides': [ 100, 125, 75, 100 ]     \n",
    "}\n",
    "\n",
    "tourist = pd.DataFrame(data)\n",
    "tourist"
   ]
  },
  {
   "cell_type": "code",
   "execution_count": 15,
   "metadata": {},
   "outputs": [
    {
     "data": {
      "text/html": [
       "<div>\n",
       "<table border=\"1\" class=\"dataframe\">\n",
       "  <thead>\n",
       "    <tr style=\"text-align: right;\">\n",
       "      <th>monument</th>\n",
       "      <th>red fort</th>\n",
       "      <th>taj mahal</th>\n",
       "    </tr>\n",
       "    <tr>\n",
       "      <th>weekday</th>\n",
       "      <th></th>\n",
       "      <th></th>\n",
       "    </tr>\n",
       "  </thead>\n",
       "  <tbody>\n",
       "    <tr>\n",
       "      <th>sat</th>\n",
       "      <td>12561</td>\n",
       "      <td>14579</td>\n",
       "    </tr>\n",
       "    <tr>\n",
       "      <th>sun</th>\n",
       "      <td>14989</td>\n",
       "      <td>29435</td>\n",
       "    </tr>\n",
       "  </tbody>\n",
       "</table>\n",
       "</div>"
      ],
      "text/plain": [
       "monument  red fort  taj mahal\n",
       "weekday                      \n",
       "sat          12561      14579\n",
       "sun          14989      29435"
      ]
     },
     "execution_count": 15,
     "metadata": {},
     "output_type": "execute_result"
    }
   ],
   "source": [
    "tourist.pivot(index='weekday', columns='monument', values='visitors')"
   ]
  },
  {
   "cell_type": "code",
   "execution_count": 16,
   "metadata": {},
   "outputs": [
    {
     "data": {
      "text/html": [
       "<div>\n",
       "<table border=\"1\" class=\"dataframe\">\n",
       "  <thead>\n",
       "    <tr>\n",
       "      <th></th>\n",
       "      <th colspan=\"2\" halign=\"left\">guides</th>\n",
       "      <th colspan=\"2\" halign=\"left\">visitors</th>\n",
       "    </tr>\n",
       "    <tr>\n",
       "      <th>monument</th>\n",
       "      <th>red fort</th>\n",
       "      <th>taj mahal</th>\n",
       "      <th>red fort</th>\n",
       "      <th>taj mahal</th>\n",
       "    </tr>\n",
       "    <tr>\n",
       "      <th>weekday</th>\n",
       "      <th></th>\n",
       "      <th></th>\n",
       "      <th></th>\n",
       "      <th></th>\n",
       "    </tr>\n",
       "  </thead>\n",
       "  <tbody>\n",
       "    <tr>\n",
       "      <th>sat</th>\n",
       "      <td>75</td>\n",
       "      <td>100</td>\n",
       "      <td>12561</td>\n",
       "      <td>14579</td>\n",
       "    </tr>\n",
       "    <tr>\n",
       "      <th>sun</th>\n",
       "      <td>100</td>\n",
       "      <td>125</td>\n",
       "      <td>14989</td>\n",
       "      <td>29435</td>\n",
       "    </tr>\n",
       "  </tbody>\n",
       "</table>\n",
       "</div>"
      ],
      "text/plain": [
       "           guides           visitors          \n",
       "monument red fort taj mahal red fort taj mahal\n",
       "weekday                                       \n",
       "sat            75       100    12561     14579\n",
       "sun           100       125    14989     29435"
      ]
     },
     "execution_count": 16,
     "metadata": {},
     "output_type": "execute_result"
    }
   ],
   "source": [
    "# If we want to pivot on all the remaining columns,  we can skip the values parameter\n",
    "tourist.pivot(index='weekday', columns='monument')"
   ]
  },
  {
   "cell_type": "markdown",
   "metadata": {},
   "source": [
    "#### Note: pivot requires unique index column pairs to reshape the data \n",
    "\n",
    "We will take a look at how to resolve this condition using pivot_table in the next chapter"
   ]
  },
  {
   "cell_type": "markdown",
   "metadata": {},
   "source": [
    "## stacking / unstacking DataFrames\n",
    "\n",
    "Hierarchical indexes can also be used to create pivot like dataset. We will start by creating a DataFrame of our visitor dataset using two levels of indexing."
   ]
  },
  {
   "cell_type": "code",
   "execution_count": 21,
   "metadata": {},
   "outputs": [
    {
     "data": {
      "text/html": [
       "<div>\n",
       "<table border=\"1\" class=\"dataframe\">\n",
       "  <thead>\n",
       "    <tr style=\"text-align: right;\">\n",
       "      <th></th>\n",
       "      <th></th>\n",
       "      <th>guides</th>\n",
       "      <th>visitors</th>\n",
       "    </tr>\n",
       "    <tr>\n",
       "      <th>weekday</th>\n",
       "      <th>monument</th>\n",
       "      <th></th>\n",
       "      <th></th>\n",
       "    </tr>\n",
       "  </thead>\n",
       "  <tbody>\n",
       "    <tr>\n",
       "      <th rowspan=\"2\" valign=\"top\">sat</th>\n",
       "      <th>red fort</th>\n",
       "      <td>75</td>\n",
       "      <td>12561</td>\n",
       "    </tr>\n",
       "    <tr>\n",
       "      <th>taj mahal</th>\n",
       "      <td>100</td>\n",
       "      <td>14579</td>\n",
       "    </tr>\n",
       "    <tr>\n",
       "      <th rowspan=\"2\" valign=\"top\">sun</th>\n",
       "      <th>red fort</th>\n",
       "      <td>100</td>\n",
       "      <td>14989</td>\n",
       "    </tr>\n",
       "    <tr>\n",
       "      <th>taj mahal</th>\n",
       "      <td>125</td>\n",
       "      <td>29435</td>\n",
       "    </tr>\n",
       "  </tbody>\n",
       "</table>\n",
       "</div>"
      ],
      "text/plain": [
       "                   guides  visitors\n",
       "weekday monument                   \n",
       "sat     red fort       75     12561\n",
       "        taj mahal     100     14579\n",
       "sun     red fort      100     14989\n",
       "        taj mahal     125     29435"
      ]
     },
     "execution_count": 21,
     "metadata": {},
     "output_type": "execute_result"
    }
   ],
   "source": [
    "df = pd.DataFrame(data)\n",
    "df = df.set_index(['weekday', 'monument'])\n",
    "df.sort_index()"
   ]
  },
  {
   "cell_type": "markdown",
   "metadata": {},
   "source": [
    "### unstack\n",
    "\n",
    "Now we will look at unstacking. It is useful in cases where we have a thin and long dataset. We can make it short and wide (by transforming some of the rows into columns)"
   ]
  },
  {
   "cell_type": "code",
   "execution_count": 22,
   "metadata": {},
   "outputs": [
    {
     "data": {
      "text/html": [
       "<div>\n",
       "<table border=\"1\" class=\"dataframe\">\n",
       "  <thead>\n",
       "    <tr>\n",
       "      <th></th>\n",
       "      <th colspan=\"2\" halign=\"left\">guides</th>\n",
       "      <th colspan=\"2\" halign=\"left\">visitors</th>\n",
       "    </tr>\n",
       "    <tr>\n",
       "      <th>monument</th>\n",
       "      <th>red fort</th>\n",
       "      <th>taj mahal</th>\n",
       "      <th>red fort</th>\n",
       "      <th>taj mahal</th>\n",
       "    </tr>\n",
       "    <tr>\n",
       "      <th>weekday</th>\n",
       "      <th></th>\n",
       "      <th></th>\n",
       "      <th></th>\n",
       "      <th></th>\n",
       "    </tr>\n",
       "  </thead>\n",
       "  <tbody>\n",
       "    <tr>\n",
       "      <th>sat</th>\n",
       "      <td>75</td>\n",
       "      <td>100</td>\n",
       "      <td>12561</td>\n",
       "      <td>14579</td>\n",
       "    </tr>\n",
       "    <tr>\n",
       "      <th>sun</th>\n",
       "      <td>100</td>\n",
       "      <td>125</td>\n",
       "      <td>14989</td>\n",
       "      <td>29435</td>\n",
       "    </tr>\n",
       "  </tbody>\n",
       "</table>\n",
       "</div>"
      ],
      "text/plain": [
       "           guides           visitors          \n",
       "monument red fort taj mahal red fort taj mahal\n",
       "weekday                                       \n",
       "sat            75       100    12561     14579\n",
       "sun           100       125    14989     29435"
      ]
     },
     "execution_count": 22,
     "metadata": {},
     "output_type": "execute_result"
    }
   ],
   "source": [
    "# Now we can use the unstack method to get pivot like data\n",
    "df.unstack(level='monument')"
   ]
  },
  {
   "cell_type": "markdown",
   "metadata": {},
   "source": [
    "The difference between this and pivot is that we have hierarchical columns. \n",
    "\n",
    "We can also use an integer to indicate the level. "
   ]
  },
  {
   "cell_type": "code",
   "execution_count": 23,
   "metadata": {},
   "outputs": [
    {
     "data": {
      "text/html": [
       "<div>\n",
       "<table border=\"1\" class=\"dataframe\">\n",
       "  <thead>\n",
       "    <tr>\n",
       "      <th></th>\n",
       "      <th colspan=\"2\" halign=\"left\">guides</th>\n",
       "      <th colspan=\"2\" halign=\"left\">visitors</th>\n",
       "    </tr>\n",
       "    <tr>\n",
       "      <th>monument</th>\n",
       "      <th>red fort</th>\n",
       "      <th>taj mahal</th>\n",
       "      <th>red fort</th>\n",
       "      <th>taj mahal</th>\n",
       "    </tr>\n",
       "    <tr>\n",
       "      <th>weekday</th>\n",
       "      <th></th>\n",
       "      <th></th>\n",
       "      <th></th>\n",
       "      <th></th>\n",
       "    </tr>\n",
       "  </thead>\n",
       "  <tbody>\n",
       "    <tr>\n",
       "      <th>sat</th>\n",
       "      <td>75</td>\n",
       "      <td>100</td>\n",
       "      <td>12561</td>\n",
       "      <td>14579</td>\n",
       "    </tr>\n",
       "    <tr>\n",
       "      <th>sun</th>\n",
       "      <td>100</td>\n",
       "      <td>125</td>\n",
       "      <td>14989</td>\n",
       "      <td>29435</td>\n",
       "    </tr>\n",
       "  </tbody>\n",
       "</table>\n",
       "</div>"
      ],
      "text/plain": [
       "           guides           visitors          \n",
       "monument red fort taj mahal red fort taj mahal\n",
       "weekday                                       \n",
       "sat            75       100    12561     14579\n",
       "sun           100       125    14989     29435"
      ]
     },
     "execution_count": 23,
     "metadata": {},
     "output_type": "execute_result"
    }
   ],
   "source": [
    "df.unstack(level=1)"
   ]
  },
  {
   "cell_type": "markdown",
   "metadata": {},
   "source": [
    "### stack\n",
    "\n",
    "The opposite of unstack is stack. It is used to convert a wide dataset to a thin and long dataset by reducing the number of columns.\n",
    "\n",
    "Another way to look at this is that unstacking will give pivot like data where stacking will give grouped dataset.\n"
   ]
  },
  {
   "cell_type": "code",
   "execution_count": 32,
   "metadata": {},
   "outputs": [
    {
     "name": "stdout",
     "output_type": "stream",
     "text": [
      "\n",
      "\n",
      " Original Dataset\n",
      "                   guides  visitors\n",
      "weekday monument                   \n",
      "sat     taj mahal     100     14579\n",
      "sun     taj mahal     125     29435\n",
      "sat     red fort       75     12561\n",
      "sun     red fort      100     14989\n",
      "\n",
      "\n",
      " Pivot like dataset\n",
      "           guides           visitors          \n",
      "monument red fort taj mahal red fort taj mahal\n",
      "weekday                                       \n",
      "sat            75       100    12561     14579\n",
      "sun           100       125    14989     29435\n",
      "\n",
      "\n",
      " Stacked dataset\n"
     ]
    },
    {
     "data": {
      "text/html": [
       "<div>\n",
       "<table border=\"1\" class=\"dataframe\">\n",
       "  <thead>\n",
       "    <tr style=\"text-align: right;\">\n",
       "      <th></th>\n",
       "      <th></th>\n",
       "      <th>guides</th>\n",
       "      <th>visitors</th>\n",
       "    </tr>\n",
       "    <tr>\n",
       "      <th>weekday</th>\n",
       "      <th>monument</th>\n",
       "      <th></th>\n",
       "      <th></th>\n",
       "    </tr>\n",
       "  </thead>\n",
       "  <tbody>\n",
       "    <tr>\n",
       "      <th rowspan=\"2\" valign=\"top\">sat</th>\n",
       "      <th>red fort</th>\n",
       "      <td>75</td>\n",
       "      <td>12561</td>\n",
       "    </tr>\n",
       "    <tr>\n",
       "      <th>taj mahal</th>\n",
       "      <td>100</td>\n",
       "      <td>14579</td>\n",
       "    </tr>\n",
       "    <tr>\n",
       "      <th rowspan=\"2\" valign=\"top\">sun</th>\n",
       "      <th>red fort</th>\n",
       "      <td>100</td>\n",
       "      <td>14989</td>\n",
       "    </tr>\n",
       "    <tr>\n",
       "      <th>taj mahal</th>\n",
       "      <td>125</td>\n",
       "      <td>29435</td>\n",
       "    </tr>\n",
       "  </tbody>\n",
       "</table>\n",
       "</div>"
      ],
      "text/plain": [
       "                   guides  visitors\n",
       "weekday monument                   \n",
       "sat     red fort       75     12561\n",
       "        taj mahal     100     14579\n",
       "sun     red fort      100     14989\n",
       "        taj mahal     125     29435"
      ]
     },
     "execution_count": 32,
     "metadata": {},
     "output_type": "execute_result"
    }
   ],
   "source": [
    "print (\"\\n\\n Original Dataset\")\n",
    "print(df)\n",
    "\n",
    "print(\"\\n\\n Pivot like dataset\")\n",
    "df2 = df.unstack(level=1)\n",
    "print(df2)\n",
    "\n",
    "print(\"\\n\\n Stacked dataset\")\n",
    "stacked = df2.stack(level='monument')\n",
    "stacked"
   ]
  },
  {
   "cell_type": "markdown",
   "metadata": {},
   "source": [
    "Suppose instead of having weekday as the first level and monument as the second level, we want things the other way round. We can do this using the swaplevel method we had seen earlier"
   ]
  },
  {
   "cell_type": "code",
   "execution_count": 36,
   "metadata": {},
   "outputs": [
    {
     "data": {
      "text/html": [
       "<div>\n",
       "<table border=\"1\" class=\"dataframe\">\n",
       "  <thead>\n",
       "    <tr style=\"text-align: right;\">\n",
       "      <th></th>\n",
       "      <th></th>\n",
       "      <th>guides</th>\n",
       "      <th>visitors</th>\n",
       "    </tr>\n",
       "    <tr>\n",
       "      <th>monument</th>\n",
       "      <th>weekday</th>\n",
       "      <th></th>\n",
       "      <th></th>\n",
       "    </tr>\n",
       "  </thead>\n",
       "  <tbody>\n",
       "    <tr>\n",
       "      <th>red fort</th>\n",
       "      <th>sat</th>\n",
       "      <td>75</td>\n",
       "      <td>12561</td>\n",
       "    </tr>\n",
       "    <tr>\n",
       "      <th>taj mahal</th>\n",
       "      <th>sat</th>\n",
       "      <td>100</td>\n",
       "      <td>14579</td>\n",
       "    </tr>\n",
       "    <tr>\n",
       "      <th>red fort</th>\n",
       "      <th>sun</th>\n",
       "      <td>100</td>\n",
       "      <td>14989</td>\n",
       "    </tr>\n",
       "    <tr>\n",
       "      <th>taj mahal</th>\n",
       "      <th>sun</th>\n",
       "      <td>125</td>\n",
       "      <td>29435</td>\n",
       "    </tr>\n",
       "  </tbody>\n",
       "</table>\n",
       "</div>"
      ],
      "text/plain": [
       "                   guides  visitors\n",
       "monument  weekday                  \n",
       "red fort  sat          75     12561\n",
       "taj mahal sat         100     14579\n",
       "red fort  sun         100     14989\n",
       "taj mahal sun         125     29435"
      ]
     },
     "execution_count": 36,
     "metadata": {},
     "output_type": "execute_result"
    }
   ],
   "source": [
    "swapped = stacked.swaplevel(0,1)\n",
    "swapped"
   ]
  },
  {
   "cell_type": "code",
   "execution_count": 37,
   "metadata": {},
   "outputs": [
    {
     "data": {
      "text/html": [
       "<div>\n",
       "<table border=\"1\" class=\"dataframe\">\n",
       "  <thead>\n",
       "    <tr style=\"text-align: right;\">\n",
       "      <th></th>\n",
       "      <th></th>\n",
       "      <th>guides</th>\n",
       "      <th>visitors</th>\n",
       "    </tr>\n",
       "    <tr>\n",
       "      <th>monument</th>\n",
       "      <th>weekday</th>\n",
       "      <th></th>\n",
       "      <th></th>\n",
       "    </tr>\n",
       "  </thead>\n",
       "  <tbody>\n",
       "    <tr>\n",
       "      <th rowspan=\"2\" valign=\"top\">red fort</th>\n",
       "      <th>sat</th>\n",
       "      <td>75</td>\n",
       "      <td>12561</td>\n",
       "    </tr>\n",
       "    <tr>\n",
       "      <th>sun</th>\n",
       "      <td>100</td>\n",
       "      <td>14989</td>\n",
       "    </tr>\n",
       "    <tr>\n",
       "      <th rowspan=\"2\" valign=\"top\">taj mahal</th>\n",
       "      <th>sat</th>\n",
       "      <td>100</td>\n",
       "      <td>14579</td>\n",
       "    </tr>\n",
       "    <tr>\n",
       "      <th>sun</th>\n",
       "      <td>125</td>\n",
       "      <td>29435</td>\n",
       "    </tr>\n",
       "  </tbody>\n",
       "</table>\n",
       "</div>"
      ],
      "text/plain": [
       "                   guides  visitors\n",
       "monument  weekday                  \n",
       "red fort  sat          75     12561\n",
       "          sun         100     14989\n",
       "taj mahal sat         100     14579\n",
       "          sun         125     29435"
      ]
     },
     "execution_count": 37,
     "metadata": {},
     "output_type": "execute_result"
    }
   ],
   "source": [
    "# Now let's sort it to get pivot like data\n",
    "swapped.sort_index()"
   ]
  },
  {
   "cell_type": "code",
   "execution_count": 45,
   "metadata": {},
   "outputs": [
    {
     "name": "stdout",
     "output_type": "stream",
     "text": [
      "\n",
      "\n",
      " Original DataFrame with multilevel index\n",
      "                   guides  visitors\n",
      "weekday monument                   \n",
      "sat     taj mahal     100     14579\n",
      "sun     taj mahal     125     29435\n",
      "sat     red fort       75     12561\n",
      "sun     red fort      100     14989\n",
      "\n",
      " Index\n",
      "MultiIndex(levels=[['sat', 'sun'], ['red fort', 'taj mahal']],\n",
      "           labels=[[0, 1, 0, 1], [1, 1, 0, 0]],\n",
      "           names=['weekday', 'monument'])\n",
      "\n",
      "\n",
      " Sorted DataFrame\n",
      "                   guides  visitors\n",
      "weekday monument                   \n",
      "sat     red fort       75     12561\n",
      "        taj mahal     100     14579\n",
      "sun     red fort      100     14989\n",
      "        taj mahal     125     29435\n",
      "\n",
      "\n",
      " Unstacking on monument\n",
      "           guides           visitors          \n",
      "monument red fort taj mahal red fort taj mahal\n",
      "weekday                                       \n",
      "sat            75       100    12561     14579\n",
      "sun           100       125    14989     29435\n",
      "\n",
      "\n",
      " Stacking on monument\n"
     ]
    },
    {
     "data": {
      "text/html": [
       "<div>\n",
       "<table border=\"1\" class=\"dataframe\">\n",
       "  <thead>\n",
       "    <tr style=\"text-align: right;\">\n",
       "      <th></th>\n",
       "      <th></th>\n",
       "      <th>guides</th>\n",
       "      <th>visitors</th>\n",
       "    </tr>\n",
       "    <tr>\n",
       "      <th>weekday</th>\n",
       "      <th>monument</th>\n",
       "      <th></th>\n",
       "      <th></th>\n",
       "    </tr>\n",
       "  </thead>\n",
       "  <tbody>\n",
       "    <tr>\n",
       "      <th rowspan=\"2\" valign=\"top\">sat</th>\n",
       "      <th>red fort</th>\n",
       "      <td>75</td>\n",
       "      <td>12561</td>\n",
       "    </tr>\n",
       "    <tr>\n",
       "      <th>taj mahal</th>\n",
       "      <td>100</td>\n",
       "      <td>14579</td>\n",
       "    </tr>\n",
       "    <tr>\n",
       "      <th rowspan=\"2\" valign=\"top\">sun</th>\n",
       "      <th>red fort</th>\n",
       "      <td>100</td>\n",
       "      <td>14989</td>\n",
       "    </tr>\n",
       "    <tr>\n",
       "      <th>taj mahal</th>\n",
       "      <td>125</td>\n",
       "      <td>29435</td>\n",
       "    </tr>\n",
       "  </tbody>\n",
       "</table>\n",
       "</div>"
      ],
      "text/plain": [
       "                   guides  visitors\n",
       "weekday monument                   \n",
       "sat     red fort       75     12561\n",
       "        taj mahal     100     14579\n",
       "sun     red fort      100     14989\n",
       "        taj mahal     125     29435"
      ]
     },
     "execution_count": 45,
     "metadata": {},
     "output_type": "execute_result"
    }
   ],
   "source": [
    "# Note carefully these set of transformations\n",
    "print(\"\\n\\n Original DataFrame with multilevel index\")\n",
    "print(df)\n",
    "print(\"\\n Index\")\n",
    "print(df.index)\n",
    "\n",
    "print(\"\\n\\n Sorted DataFrame\")\n",
    "print( df.sort_index() )\n",
    "\n",
    "print(\"\\n\\n Unstacking on monument\")\n",
    "print(df.unstack(level='monument'))\n",
    "\n",
    "print(\"\\n\\n Stacking on monument\")\n",
    "df.unstack(level='monument').stack(level='monument')"
   ]
  },
  {
   "cell_type": "markdown",
   "metadata": {},
   "source": [
    "You will notice how after a series of unstacking and stacking transformation, we get back a sorted index version of the original dataFrame "
   ]
  },
  {
   "cell_type": "markdown",
   "metadata": {},
   "source": [
    "## melting DataFrames\n",
    "\n",
    "We can move multiple columns into a single column by melting multiple columns. This will again result in long tables instead of wide ones. The merged columns will get transformed into two columns - 'variable' and 'value'\n"
   ]
  },
  {
   "cell_type": "code",
   "execution_count": 55,
   "metadata": {},
   "outputs": [
    {
     "name": "stdout",
     "output_type": "stream",
     "text": [
      "  weekday   monument  guides  visitors\n",
      "0     sat  taj mahal     100     14579\n",
      "1     sun  taj mahal     125     29435\n",
      "2     sat   red fort      75     12561\n",
      "3     sun   red fort     100     14989\n"
     ]
    },
    {
     "data": {
      "text/html": [
       "<div>\n",
       "<table border=\"1\" class=\"dataframe\">\n",
       "  <thead>\n",
       "    <tr style=\"text-align: right;\">\n",
       "      <th></th>\n",
       "      <th>variable</th>\n",
       "      <th>value</th>\n",
       "    </tr>\n",
       "  </thead>\n",
       "  <tbody>\n",
       "    <tr>\n",
       "      <th>0</th>\n",
       "      <td>weekday</td>\n",
       "      <td>sat</td>\n",
       "    </tr>\n",
       "    <tr>\n",
       "      <th>1</th>\n",
       "      <td>weekday</td>\n",
       "      <td>sun</td>\n",
       "    </tr>\n",
       "    <tr>\n",
       "      <th>2</th>\n",
       "      <td>weekday</td>\n",
       "      <td>sat</td>\n",
       "    </tr>\n",
       "    <tr>\n",
       "      <th>3</th>\n",
       "      <td>weekday</td>\n",
       "      <td>sun</td>\n",
       "    </tr>\n",
       "    <tr>\n",
       "      <th>4</th>\n",
       "      <td>monument</td>\n",
       "      <td>taj mahal</td>\n",
       "    </tr>\n",
       "    <tr>\n",
       "      <th>5</th>\n",
       "      <td>monument</td>\n",
       "      <td>taj mahal</td>\n",
       "    </tr>\n",
       "    <tr>\n",
       "      <th>6</th>\n",
       "      <td>monument</td>\n",
       "      <td>red fort</td>\n",
       "    </tr>\n",
       "    <tr>\n",
       "      <th>7</th>\n",
       "      <td>monument</td>\n",
       "      <td>red fort</td>\n",
       "    </tr>\n",
       "    <tr>\n",
       "      <th>8</th>\n",
       "      <td>guides</td>\n",
       "      <td>100</td>\n",
       "    </tr>\n",
       "    <tr>\n",
       "      <th>9</th>\n",
       "      <td>guides</td>\n",
       "      <td>125</td>\n",
       "    </tr>\n",
       "    <tr>\n",
       "      <th>10</th>\n",
       "      <td>guides</td>\n",
       "      <td>75</td>\n",
       "    </tr>\n",
       "    <tr>\n",
       "      <th>11</th>\n",
       "      <td>guides</td>\n",
       "      <td>100</td>\n",
       "    </tr>\n",
       "    <tr>\n",
       "      <th>12</th>\n",
       "      <td>visitors</td>\n",
       "      <td>14579</td>\n",
       "    </tr>\n",
       "    <tr>\n",
       "      <th>13</th>\n",
       "      <td>visitors</td>\n",
       "      <td>29435</td>\n",
       "    </tr>\n",
       "    <tr>\n",
       "      <th>14</th>\n",
       "      <td>visitors</td>\n",
       "      <td>12561</td>\n",
       "    </tr>\n",
       "    <tr>\n",
       "      <th>15</th>\n",
       "      <td>visitors</td>\n",
       "      <td>14989</td>\n",
       "    </tr>\n",
       "  </tbody>\n",
       "</table>\n",
       "</div>"
      ],
      "text/plain": [
       "    variable      value\n",
       "0    weekday        sat\n",
       "1    weekday        sun\n",
       "2    weekday        sat\n",
       "3    weekday        sun\n",
       "4   monument  taj mahal\n",
       "5   monument  taj mahal\n",
       "6   monument   red fort\n",
       "7   monument   red fort\n",
       "8     guides        100\n",
       "9     guides        125\n",
       "10    guides         75\n",
       "11    guides        100\n",
       "12  visitors      14579\n",
       "13  visitors      29435\n",
       "14  visitors      12561\n",
       "15  visitors      14989"
      ]
     },
     "execution_count": 55,
     "metadata": {},
     "output_type": "execute_result"
    }
   ],
   "source": [
    "# Let's reset the multi-column index to get a flat dataset\n",
    "flatDf = df.reset_index()\n",
    "print(flatDf)\n",
    "\n",
    "\n",
    "# Let's use melt to transform all the columns so that we have all the data in just two columns - \n",
    "pd.melt(flatDf)"
   ]
  },
  {
   "cell_type": "markdown",
   "metadata": {},
   "source": [
    "Note that we have all the labels in a column called 'variable' and the corrosponding values in 'value' column.\n",
    "\n",
    "This kind of information will not be very useful. Let's specify which are our id columns so that the remaining columns can be collapsed. Let's do away with dedicated columns for guides and visitors. "
   ]
  },
  {
   "cell_type": "code",
   "execution_count": 57,
   "metadata": {},
   "outputs": [
    {
     "data": {
      "text/html": [
       "<div>\n",
       "<table border=\"1\" class=\"dataframe\">\n",
       "  <thead>\n",
       "    <tr style=\"text-align: right;\">\n",
       "      <th></th>\n",
       "      <th>monument</th>\n",
       "      <th>weekday</th>\n",
       "      <th>variable</th>\n",
       "      <th>value</th>\n",
       "    </tr>\n",
       "  </thead>\n",
       "  <tbody>\n",
       "    <tr>\n",
       "      <th>0</th>\n",
       "      <td>taj mahal</td>\n",
       "      <td>sat</td>\n",
       "      <td>guides</td>\n",
       "      <td>100</td>\n",
       "    </tr>\n",
       "    <tr>\n",
       "      <th>1</th>\n",
       "      <td>taj mahal</td>\n",
       "      <td>sun</td>\n",
       "      <td>guides</td>\n",
       "      <td>125</td>\n",
       "    </tr>\n",
       "    <tr>\n",
       "      <th>2</th>\n",
       "      <td>red fort</td>\n",
       "      <td>sat</td>\n",
       "      <td>guides</td>\n",
       "      <td>75</td>\n",
       "    </tr>\n",
       "    <tr>\n",
       "      <th>3</th>\n",
       "      <td>red fort</td>\n",
       "      <td>sun</td>\n",
       "      <td>guides</td>\n",
       "      <td>100</td>\n",
       "    </tr>\n",
       "    <tr>\n",
       "      <th>4</th>\n",
       "      <td>taj mahal</td>\n",
       "      <td>sat</td>\n",
       "      <td>visitors</td>\n",
       "      <td>14579</td>\n",
       "    </tr>\n",
       "    <tr>\n",
       "      <th>5</th>\n",
       "      <td>taj mahal</td>\n",
       "      <td>sun</td>\n",
       "      <td>visitors</td>\n",
       "      <td>29435</td>\n",
       "    </tr>\n",
       "    <tr>\n",
       "      <th>6</th>\n",
       "      <td>red fort</td>\n",
       "      <td>sat</td>\n",
       "      <td>visitors</td>\n",
       "      <td>12561</td>\n",
       "    </tr>\n",
       "    <tr>\n",
       "      <th>7</th>\n",
       "      <td>red fort</td>\n",
       "      <td>sun</td>\n",
       "      <td>visitors</td>\n",
       "      <td>14989</td>\n",
       "    </tr>\n",
       "  </tbody>\n",
       "</table>\n",
       "</div>"
      ],
      "text/plain": [
       "    monument weekday  variable  value\n",
       "0  taj mahal     sat    guides    100\n",
       "1  taj mahal     sun    guides    125\n",
       "2   red fort     sat    guides     75\n",
       "3   red fort     sun    guides    100\n",
       "4  taj mahal     sat  visitors  14579\n",
       "5  taj mahal     sun  visitors  29435\n",
       "6   red fort     sat  visitors  12561\n",
       "7   red fort     sun  visitors  14989"
      ]
     },
     "execution_count": 57,
     "metadata": {},
     "output_type": "execute_result"
    }
   ],
   "source": [
    "# Now we will melt the flat dataset to do away with dedicated columns for guides and visitors\n",
    "# We mention which columns should not be collapsed using the 'id_vars' parameter \n",
    "pd.melt(flatDf, id_vars=['monument', 'weekday'])"
   ]
  },
  {
   "cell_type": "code",
   "execution_count": null,
   "metadata": {},
   "outputs": [],
   "source": []
  }
 ],
 "metadata": {
  "kernelspec": {
   "display_name": "Python 3",
   "language": "python",
   "name": "python3"
  },
  "language_info": {
   "codemirror_mode": {
    "name": "ipython",
    "version": 3
   },
   "file_extension": ".py",
   "mimetype": "text/x-python",
   "name": "python",
   "nbconvert_exporter": "python",
   "pygments_lexer": "ipython3",
   "version": "3.5.2"
  }
 },
 "nbformat": 4,
 "nbformat_minor": 2
}
