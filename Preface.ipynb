{
 "cells": [
  {
   "cell_type": "markdown",
   "metadata": {},
   "source": [
    "# Preface\n",
    "\n",
    "These are my notes in attempting to learn Python libraries like Numpy and Pandas. The end goal is to cover most of the basics required to do a Data Science course. There are 3 broad sections that I would like to cover\n",
    "\n",
    "Overview of Numpy library for numerical computation\n",
    "Overview of Pandas library for data manipulation\n",
    "Overview of Mathematical techniques : Numerical methods, Linear algebra and Statistics\n",
    "\n",
    "Most of the contents in these notes come from open source community in the form of freely availble books, library documentation and getting started guides,  Jupyter notebooks on Python, Pandas, Machine Learning courses and concepts from targetted courses like those offered by DataCamp. \n",
    "\n",
    "Special shoutout to the following contents that I found most useful\n",
    "\n",
    "* Python for Data Analysis by Wes McKinney\n",
    "* Scipy documentation\n",
    "* Mastering pandas by Femi Anthony\n",
    "\n",
    "And ofcouse, Stackoverflow. :-) \n",
    "\n",
    "For beginners, I would highly recommend the e-learning courses at DataCamp for a structured walkthrough of the contents. \n",
    "\n",
    "Let's get started."
   ]
  },
  {
   "cell_type": "code",
   "execution_count": null,
   "metadata": {},
   "outputs": [],
   "source": []
  }
 ],
 "metadata": {
  "kernelspec": {
   "display_name": "Python 3",
   "language": "python",
   "name": "python3"
  },
  "language_info": {
   "codemirror_mode": {
    "name": "ipython",
    "version": 3
   },
   "file_extension": ".py",
   "mimetype": "text/x-python",
   "name": "python",
   "nbconvert_exporter": "python",
   "pygments_lexer": "ipython3",
   "version": "3.5.2"
  }
 },
 "nbformat": 4,
 "nbformat_minor": 2
}
