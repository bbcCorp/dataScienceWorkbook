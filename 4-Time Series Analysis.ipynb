{
 "cells": [
  {
   "cell_type": "code",
   "execution_count": 6,
   "metadata": {},
   "outputs": [],
   "source": [
    "import numpy as np\n",
    "import pandas as pd\n",
    "import matplotlib.pyplot as plt\n",
    "from datetime import datetime"
   ]
  },
  {
   "cell_type": "code",
   "execution_count": 7,
   "metadata": {},
   "outputs": [],
   "source": [
    "dates = [datetime(2018, 1, 1), \n",
    "         datetime(2018, 1, 2), \n",
    "         datetime(2018, 1, 3), \n",
    "         datetime(2018, 1, 4), \n",
    "         datetime(2018, 1, 5), \n",
    "        ]\n",
    "\n",
    "# Lets create a simple timeseries object - a Series indexed by timestamp \n",
    "ts = pd.Series(np.random.rand(5)*1000 , index=dates)"
   ]
  },
  {
   "cell_type": "markdown",
   "metadata": {},
   "source": [
    "TimeSeries objects have a DateTimeIndex "
   ]
  },
  {
   "cell_type": "code",
   "execution_count": 2,
   "metadata": {},
   "outputs": [
    {
     "name": "stdout",
     "output_type": "stream",
     "text": [
      "<class 'pandas.core.frame.DataFrame'>\n",
      "DatetimeIndex: 248 entries, 2017-01-02 to 2017-12-29\n",
      "Data columns (total 4 columns):\n",
      "Open     248 non-null float64\n",
      "High     248 non-null float64\n",
      "Low      248 non-null float64\n",
      "Close    248 non-null float64\n",
      "dtypes: float64(4)\n",
      "memory usage: 9.7 KB\n"
     ]
    },
    {
     "data": {
      "text/html": [
       "<div>\n",
       "<table border=\"1\" class=\"dataframe\">\n",
       "  <thead>\n",
       "    <tr style=\"text-align: right;\">\n",
       "      <th></th>\n",
       "      <th>Open</th>\n",
       "      <th>High</th>\n",
       "      <th>Low</th>\n",
       "      <th>Close</th>\n",
       "    </tr>\n",
       "    <tr>\n",
       "      <th>Date</th>\n",
       "      <th></th>\n",
       "      <th></th>\n",
       "      <th></th>\n",
       "      <th></th>\n",
       "    </tr>\n",
       "  </thead>\n",
       "  <tbody>\n",
       "    <tr>\n",
       "      <th>2017-01-02</th>\n",
       "      <td>26711.15</td>\n",
       "      <td>26720.98</td>\n",
       "      <td>26447.06</td>\n",
       "      <td>26595.45</td>\n",
       "    </tr>\n",
       "    <tr>\n",
       "      <th>2017-01-03</th>\n",
       "      <td>26616.92</td>\n",
       "      <td>26724.40</td>\n",
       "      <td>26488.37</td>\n",
       "      <td>26643.24</td>\n",
       "    </tr>\n",
       "    <tr>\n",
       "      <th>2017-01-04</th>\n",
       "      <td>26677.22</td>\n",
       "      <td>26723.37</td>\n",
       "      <td>26606.06</td>\n",
       "      <td>26633.13</td>\n",
       "    </tr>\n",
       "    <tr>\n",
       "      <th>2017-01-05</th>\n",
       "      <td>26738.42</td>\n",
       "      <td>26917.21</td>\n",
       "      <td>26738.42</td>\n",
       "      <td>26878.24</td>\n",
       "    </tr>\n",
       "    <tr>\n",
       "      <th>2017-01-06</th>\n",
       "      <td>26929.69</td>\n",
       "      <td>27009.61</td>\n",
       "      <td>26733.33</td>\n",
       "      <td>26759.23</td>\n",
       "    </tr>\n",
       "  </tbody>\n",
       "</table>\n",
       "</div>"
      ],
      "text/plain": [
       "                Open      High       Low     Close\n",
       "Date                                              \n",
       "2017-01-02  26711.15  26720.98  26447.06  26595.45\n",
       "2017-01-03  26616.92  26724.40  26488.37  26643.24\n",
       "2017-01-04  26677.22  26723.37  26606.06  26633.13\n",
       "2017-01-05  26738.42  26917.21  26738.42  26878.24\n",
       "2017-01-06  26929.69  27009.61  26733.33  26759.23"
      ]
     },
     "execution_count": 2,
     "metadata": {},
     "output_type": "execute_result"
    }
   ],
   "source": [
    "# Timeseries analysis involves a datetime field and some other statistics. One of the most popular type is stock\n",
    "# We will use Bombay Stock Index for the year 2017\n",
    "bse = pd.read_csv('./data/bse_sensex_2017.csv', header=0, sep=',', index_col='Date', parse_dates=True)\n",
    "bse.info()\n",
    "bse.head()"
   ]
  },
  {
   "cell_type": "code",
   "execution_count": 3,
   "metadata": {},
   "outputs": [],
   "source": [
    "# With a date based index, we can slice the data in a veriety of ways\n",
    "# For example, we can get all January info using a partial index '2017-01'\n",
    "jan = bse['2017-01']"
   ]
  },
  {
   "cell_type": "code",
   "execution_count": 29,
   "metadata": {},
   "outputs": [
    {
     "data": {
      "text/plain": [
       "<matplotlib.text.Text at 0x7fa0507f0898>"
      ]
     },
     "execution_count": 29,
     "metadata": {},
     "output_type": "execute_result"
    },
    {
     "data": {
      "image/png": "[encoded data removed]",
      "text/plain": [
       "<matplotlib.figure.Figure at 0x7fa050828240>"
      ]
     },
     "metadata": {},
     "output_type": "display_data"
    }
   ],
   "source": [
    "# Let's plot the closing value for 2017 to understand how it changed\n",
    "bse['Close'].plot()\n",
    "plt.title('2017 BSE Sensex')"
   ]
  },
  {
   "cell_type": "code",
   "execution_count": 50,
   "metadata": {},
   "outputs": [
    {
     "data": {
      "text/html": [
       "<div>\n",
       "<table border=\"1\" class=\"dataframe\">\n",
       "  <thead>\n",
       "    <tr style=\"text-align: right;\">\n",
       "      <th></th>\n",
       "      <th>Open</th>\n",
       "      <th>High</th>\n",
       "      <th>Low</th>\n",
       "      <th>Close</th>\n",
       "      <th>Fluctuation</th>\n",
       "    </tr>\n",
       "    <tr>\n",
       "      <th>Date</th>\n",
       "      <th></th>\n",
       "      <th></th>\n",
       "      <th></th>\n",
       "      <th></th>\n",
       "      <th></th>\n",
       "    </tr>\n",
       "  </thead>\n",
       "  <tbody>\n",
       "    <tr>\n",
       "      <th>2017-12-18</th>\n",
       "      <td>33364.52</td>\n",
       "      <td>33801.9</td>\n",
       "      <td>32595.63</td>\n",
       "      <td>33601.68</td>\n",
       "      <td>1206.27</td>\n",
       "    </tr>\n",
       "  </tbody>\n",
       "</table>\n",
       "</div>"
      ],
      "text/plain": [
       "                Open     High       Low     Close  Fluctuation\n",
       "Date                                                          \n",
       "2017-12-18  33364.52  33801.9  32595.63  33601.68      1206.27"
      ]
     },
     "execution_count": 50,
     "metadata": {},
     "output_type": "execute_result"
    },
    {
     "data": {
      "image/png": "[encoded data removed]",
      "text/plain": [
       "<matplotlib.figure.Figure at 0x7fa0500ed438>"
      ]
     },
     "metadata": {},
     "output_type": "display_data"
    }
   ],
   "source": [
    "# Let's find out the daily fluctuations\n",
    "bse['Fluctuation'] = bse['High'] - bse['Low']\n",
    "\n",
    "# Plot the fluctuations to see whether there are any trends\n",
    "bse['Fluctuation'].plot()\n",
    "\n",
    "# Get record for the day with maximum fluctuation\n",
    "maxFluctuation = bse['Fluctuation'].max()\n",
    "bse[bse['Fluctuation']==maxFluctuation]\n"
   ]
  },
  {
   "cell_type": "markdown",
   "metadata": {},
   "source": [
    "Plot shows quite a large blip that was recorded on Dec 18th"
   ]
  },
  {
   "cell_type": "markdown",
   "metadata": {},
   "source": [
    "### Resampling time series data"
   ]
  },
  {
   "cell_type": "code",
   "execution_count": 51,
   "metadata": {},
   "outputs": [
    {
     "data": {
      "text/html": [
       "<div>\n",
       "<table border=\"1\" class=\"dataframe\">\n",
       "  <thead>\n",
       "    <tr style=\"text-align: right;\">\n",
       "      <th></th>\n",
       "      <th>Open</th>\n",
       "      <th>High</th>\n",
       "      <th>Low</th>\n",
       "      <th>Close</th>\n",
       "      <th>Fluctuation</th>\n",
       "    </tr>\n",
       "    <tr>\n",
       "      <th>Date</th>\n",
       "      <th></th>\n",
       "      <th></th>\n",
       "      <th></th>\n",
       "      <th></th>\n",
       "      <th></th>\n",
       "    </tr>\n",
       "  </thead>\n",
       "  <tbody>\n",
       "    <tr>\n",
       "      <th>2017-01-31</th>\n",
       "      <td>27157.728571</td>\n",
       "      <td>27268.113333</td>\n",
       "      <td>27064.164762</td>\n",
       "      <td>27165.459048</td>\n",
       "      <td>203.948571</td>\n",
       "    </tr>\n",
       "    <tr>\n",
       "      <th>2017-02-28</th>\n",
       "      <td>28456.787895</td>\n",
       "      <td>28562.178947</td>\n",
       "      <td>28329.183684</td>\n",
       "      <td>28457.402105</td>\n",
       "      <td>232.995263</td>\n",
       "    </tr>\n",
       "    <tr>\n",
       "      <th>2017-03-31</th>\n",
       "      <td>29282.500000</td>\n",
       "      <td>29369.064091</td>\n",
       "      <td>29179.381364</td>\n",
       "      <td>29269.491364</td>\n",
       "      <td>189.682727</td>\n",
       "    </tr>\n",
       "    <tr>\n",
       "      <th>2017-04-30</th>\n",
       "      <td>29728.955000</td>\n",
       "      <td>29810.718889</td>\n",
       "      <td>29587.851111</td>\n",
       "      <td>29695.834444</td>\n",
       "      <td>222.867778</td>\n",
       "    </tr>\n",
       "    <tr>\n",
       "      <th>2017-05-31</th>\n",
       "      <td>30411.618636</td>\n",
       "      <td>30534.208636</td>\n",
       "      <td>30303.888636</td>\n",
       "      <td>30420.066818</td>\n",
       "      <td>230.320000</td>\n",
       "    </tr>\n",
       "    <tr>\n",
       "      <th>2017-06-30</th>\n",
       "      <td>31196.161429</td>\n",
       "      <td>31273.801429</td>\n",
       "      <td>31066.093333</td>\n",
       "      <td>31144.678571</td>\n",
       "      <td>207.708095</td>\n",
       "    </tr>\n",
       "    <tr>\n",
       "      <th>2017-07-31</th>\n",
       "      <td>31873.493810</td>\n",
       "      <td>31969.283810</td>\n",
       "      <td>31761.241429</td>\n",
       "      <td>31879.607143</td>\n",
       "      <td>208.042381</td>\n",
       "    </tr>\n",
       "    <tr>\n",
       "      <th>2017-08-31</th>\n",
       "      <td>31855.618571</td>\n",
       "      <td>31926.619524</td>\n",
       "      <td>31661.410476</td>\n",
       "      <td>31772.229048</td>\n",
       "      <td>265.209048</td>\n",
       "    </tr>\n",
       "    <tr>\n",
       "      <th>2017-09-30</th>\n",
       "      <td>31964.489524</td>\n",
       "      <td>32043.545238</td>\n",
       "      <td>31784.698571</td>\n",
       "      <td>31887.121429</td>\n",
       "      <td>258.846667</td>\n",
       "    </tr>\n",
       "    <tr>\n",
       "      <th>2017-10-31</th>\n",
       "      <td>32370.793000</td>\n",
       "      <td>32498.545500</td>\n",
       "      <td>32266.113500</td>\n",
       "      <td>32397.642500</td>\n",
       "      <td>232.432000</td>\n",
       "    </tr>\n",
       "    <tr>\n",
       "      <th>2017-11-30</th>\n",
       "      <td>33449.635909</td>\n",
       "      <td>33555.409545</td>\n",
       "      <td>33294.489091</td>\n",
       "      <td>33395.138636</td>\n",
       "      <td>260.920455</td>\n",
       "    </tr>\n",
       "    <tr>\n",
       "      <th>2017-12-31</th>\n",
       "      <td>33426.422500</td>\n",
       "      <td>33569.121500</td>\n",
       "      <td>33255.071500</td>\n",
       "      <td>33424.397000</td>\n",
       "      <td>314.050000</td>\n",
       "    </tr>\n",
       "  </tbody>\n",
       "</table>\n",
       "</div>"
      ],
      "text/plain": [
       "                    Open          High           Low         Close  \\\n",
       "Date                                                                 \n",
       "2017-01-31  27157.728571  27268.113333  27064.164762  27165.459048   \n",
       "2017-02-28  28456.787895  28562.178947  28329.183684  28457.402105   \n",
       "2017-03-31  29282.500000  29369.064091  29179.381364  29269.491364   \n",
       "2017-04-30  29728.955000  29810.718889  29587.851111  29695.834444   \n",
       "2017-05-31  30411.618636  30534.208636  30303.888636  30420.066818   \n",
       "2017-06-30  31196.161429  31273.801429  31066.093333  31144.678571   \n",
       "2017-07-31  31873.493810  31969.283810  31761.241429  31879.607143   \n",
       "2017-08-31  31855.618571  31926.619524  31661.410476  31772.229048   \n",
       "2017-09-30  31964.489524  32043.545238  31784.698571  31887.121429   \n",
       "2017-10-31  32370.793000  32498.545500  32266.113500  32397.642500   \n",
       "2017-11-30  33449.635909  33555.409545  33294.489091  33395.138636   \n",
       "2017-12-31  33426.422500  33569.121500  33255.071500  33424.397000   \n",
       "\n",
       "            Fluctuation  \n",
       "Date                     \n",
       "2017-01-31   203.948571  \n",
       "2017-02-28   232.995263  \n",
       "2017-03-31   189.682727  \n",
       "2017-04-30   222.867778  \n",
       "2017-05-31   230.320000  \n",
       "2017-06-30   207.708095  \n",
       "2017-07-31   208.042381  \n",
       "2017-08-31   265.209048  \n",
       "2017-09-30   258.846667  \n",
       "2017-10-31   232.432000  \n",
       "2017-11-30   260.920455  \n",
       "2017-12-31   314.050000  "
      ]
     },
     "execution_count": 51,
     "metadata": {},
     "output_type": "execute_result"
    }
   ],
   "source": [
    "bse.resample('M')"
   ]
  },
  {
   "cell_type": "code",
   "execution_count": null,
   "metadata": {},
   "outputs": [],
   "source": []
  }
 ],
 "metadata": {
  "kernelspec": {
   "display_name": "Python 3",
   "language": "python",
   "name": "python3"
  },
  "language_info": {
   "codemirror_mode": {
    "name": "ipython",
    "version": 3
   },
   "file_extension": ".py",
   "mimetype": "text/x-python",
   "name": "python",
   "nbconvert_exporter": "python",
   "pygments_lexer": "ipython3",
   "version": "3.5.2"
  }
 },
 "nbformat": 4,
 "nbformat_minor": 2
}
