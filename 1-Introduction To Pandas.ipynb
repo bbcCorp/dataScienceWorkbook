{
 "cells": [
  {
   "cell_type": "markdown",
   "metadata": {},
   "source": [
    "# Introduction to Pandas"
   ]
  },
  {
   "cell_type": "markdown",
   "metadata": {},
   "source": [
    "The pandas is a high-performance open source library for data analysis in Python developed by Wes McKinney in 2008.\n",
    "\n",
    "It has the following key features\n",
    "\n",
    "* Data structures with labeled axes support. This allows the ability to refer to data rows or columns using integer numbers or names\n",
    "\n",
    "* Data structures to handle both time series data and non-time series data. Indexing on datetime field is built in to Pandas and allows for querying for date ranges or using partial date fields.\n",
    "\n",
    "* Pandas makes it easy to merge data from various sources. In most data analysis scenarios, we will have one or more datasets (may be one per region, country or year), which needs to be merged to do comprehensive analysis.  \n",
    "\n",
    "* Ability to handle missing data. It is common for a dataset to have missing entries, incorrect data(string entries in otherwise numeric column), wrong entries (e.g. mislabelled data). Pandas makes it easy to handle missing data.\n",
    "\n",
    "* Ability to filter, slice, group, reorder and reshape datasets. This coupled with tabular data structure and indexes makes it incredibly powerful for data analysis. \n",
    "\n",
    "* Ability to pivot data. \n",
    "\n",
    "* Pandas is used for arithmetic operations and reductions, that makes it very useful for scientific computing. Easy integratration with libraries like Numpy, Scipy makes it an essential tool for scientific computing and machine learning. \n",
    "\n",
    "Pandas is built on top of Numpy so it benefits from many of the performance benefits of Numpy, especially for numerical and scientific computing.\n",
    "\n",
    "# Pandas Data Structures\n",
    "\n",
    "There are three data structures in Pandas\n",
    "* Series    - Series are 1D numpy array with an index\n",
    "* DataFrame - An excel like tabular data structure. Its a 2D array with Series as columns, sharing a common index. \n",
    "* Panel     - 3D tables\n",
    "\n",
    "Indexes are sequence of labels. They are immutable and have the same data type.\n",
    "\n",
    "Let's start by importing pandas and numpy and look at the two primary data structures - Series and DataFrame"
   ]
  },
  {
   "cell_type": "code",
   "execution_count": 1,
   "metadata": {},
   "outputs": [],
   "source": [
    "# Import our two essential libraries - numpy and pandas\n",
    "import pandas as pd\n",
    "import numpy as np"
   ]
  },
  {
   "cell_type": "markdown",
   "metadata": {},
   "source": [
    "\n",
    "# Pandas Series\n",
    "\n",
    "A Series is a one-dimensional array-like object containing an array of data (of any NumPy data type) and an associated array of data labels, called its index.\n",
    "\n",
    "Another way to think about a Series is as a fixed-length, ordered dict, as it is a mapping\n",
    "of index values to data values."
   ]
  },
  {
   "cell_type": "code",
   "execution_count": 2,
   "metadata": {},
   "outputs": [
    {
     "name": "stdout",
     "output_type": "stream",
     "text": [
      "0    10.0\n",
      "1    10.5\n",
      "2    12.0\n",
      "3    11.5\n",
      "4     9.0\n",
      "dtype: float64\n"
     ]
    }
   ],
   "source": [
    "prices = [10, 10.5, 12, 11.5, 9]\n",
    "stockPrices = pd.Series(prices)\n",
    "print(stockPrices)"
   ]
  },
  {
   "cell_type": "markdown",
   "metadata": {},
   "source": [
    "The string representation of a Series shows the index on the left and the values on the right. The default index consists of the integers 0 to N - 1 where N is the length of the data.\n",
    "\n",
    "Next, we will look at some of the attributes of the Series object - values and index\n"
   ]
  },
  {
   "cell_type": "code",
   "execution_count": 3,
   "metadata": {},
   "outputs": [
    {
     "data": {
      "text/plain": [
       "array([ 10. ,  10.5,  12. ,  11.5,   9. ])"
      ]
     },
     "execution_count": 3,
     "metadata": {},
     "output_type": "execute_result"
    }
   ],
   "source": [
    "# Lets get the values of the series object\n",
    "stockPrices.values"
   ]
  },
  {
   "cell_type": "code",
   "execution_count": 7,
   "metadata": {},
   "outputs": [
    {
     "data": {
      "text/plain": [
       "Index(['Monday', 'Tuesday', 'Wednesday', 'Thursday', 'Friday'], dtype='object', name='Day')"
      ]
     },
     "execution_count": 7,
     "metadata": {},
     "output_type": "execute_result"
    }
   ],
   "source": [
    "# Lets get some more information about the index for this series\n",
    "stockPrices.index"
   ]
  },
  {
   "cell_type": "markdown",
   "metadata": {},
   "source": [
    "Note that we have the series printed with associated numeric index.\n",
    "\n",
    "\n",
    "To create a Series with an index identifying each data point, we can specify an index array."
   ]
  },
  {
   "cell_type": "code",
   "execution_count": 4,
   "metadata": {},
   "outputs": [
    {
     "name": "stdout",
     "output_type": "stream",
     "text": [
      "Day\n",
      "Monday       10.0\n",
      "Tuesday      10.5\n",
      "Wednesday    12.0\n",
      "Thursday     11.5\n",
      "Friday        9.0\n",
      "dtype: float64\n"
     ]
    }
   ],
   "source": [
    "# Now instead of the default numeric index, we specify an index of labels for each day\n",
    "stockPrices = pd.Series(prices, index=['Monday', 'Tuesday', 'Wednesday', 'Thursday', 'Friday'])\n",
    "stockPrices.index.name = 'Day'\n",
    "print(stockPrices)"
   ]
  },
  {
   "cell_type": "markdown",
   "metadata": {},
   "source": [
    "Let's see how we can slice a Pandas series"
   ]
  },
  {
   "cell_type": "code",
   "execution_count": 40,
   "metadata": {},
   "outputs": [
    {
     "name": "stdout",
     "output_type": "stream",
     "text": [
      "\n",
      " ======== Pandas Series =========== \n",
      "\n",
      "0    0\n",
      "1    1\n",
      "2    2\n",
      "3    3\n",
      "4    4\n",
      "dtype: float64\n",
      "\n",
      " Slicing of numpy array: \n",
      " [ 0.  1.  2.]\n",
      "\n",
      " Slicing of pandas series: \n",
      " 0    0\n",
      "1    1\n",
      "2    2\n",
      "dtype: float64\n",
      "\n",
      " Selecting elements from numpy array: \n",
      " [ 1.  2.]\n",
      "\n",
      " Selecting elements from pandas series: \n",
      " 1    1\n",
      "2    2\n",
      "dtype: float64\n"
     ]
    }
   ],
   "source": [
    "data = np.arange(5.)\n",
    "s = pd.Series(data)\n",
    "\n",
    "print (\"\\n ======== Pandas Series =========== \\n\")\n",
    "print(s)\n",
    "\n",
    "# Using array slicing notation on Series\n",
    "# Selecting the first 3 items in the series\n",
    "print(\"\\n Slicing of numpy array: \\n\", data[:3])\n",
    "print(\"\\n Slicing of pandas series: \\n\", s[:3])\n",
    "\n",
    "# Selecting from 2nd to 3rd \n",
    "print(\"\\n Selecting elements from numpy array: \\n\", data[1:3])\n",
    "print(\"\\n Selecting elements from pandas series: \\n\",s[1:3])"
   ]
  },
  {
   "cell_type": "code",
   "execution_count": 33,
   "metadata": {},
   "outputs": [
    {
     "name": "stdout",
     "output_type": "stream",
     "text": [
      "\n",
      " ======== Pandas Series =========== \n",
      " a    0\n",
      "b    1\n",
      "c    2\n",
      "d    3\n",
      "e    4\n",
      "dtype: float64\n"
     ]
    }
   ],
   "source": [
    "#Pandas Series\n",
    "s = pd.Series(np.arange(5.), index=['a', 'b','c','d','e'])\n",
    "print (\"\\n ======== Pandas Series =========== \\n\", s)"
   ]
  },
  {
   "cell_type": "code",
   "execution_count": 20,
   "metadata": {},
   "outputs": [
    {
     "name": "stdout",
     "output_type": "stream",
     "text": [
      "idx\n",
      "a     0\n",
      "b     5\n",
      "c    10\n",
      "d    15\n",
      "e    20\n",
      "dtype: float64\n"
     ]
    }
   ],
   "source": [
    "# Applying a calcualtion to all the series elements\n",
    "s = s * 5\n",
    "print(s)"
   ]
  },
  {
   "cell_type": "code",
   "execution_count": 28,
   "metadata": {},
   "outputs": [
    {
     "name": "stdout",
     "output_type": "stream",
     "text": [
      "idx\n",
      "b      5\n",
      "c    100\n",
      "e    200\n",
      "f    NaN\n",
      "dtype: float64\n"
     ]
    }
   ],
   "source": [
    "# Selecting some values based on index. Items not in sequence come as NaN\n",
    "print(s[['b','c','e','f']])"
   ]
  },
  {
   "cell_type": "code",
   "execution_count": 21,
   "metadata": {},
   "outputs": [
    {
     "name": "stdout",
     "output_type": "stream",
     "text": [
      "idx\n",
      "a      0\n",
      "b      5\n",
      "c    100\n",
      "d     15\n",
      "e    200\n",
      "dtype: float64\n"
     ]
    }
   ],
   "source": [
    "# Applying a calculation to some of the elements using index\n",
    "evenidx = s[s %2 == 0].index\n",
    "s[evenidx] = s[evenidx]*10\n",
    "print(s)"
   ]
  },
  {
   "cell_type": "code",
   "execution_count": 23,
   "metadata": {},
   "outputs": [
    {
     "name": "stdout",
     "output_type": "stream",
     "text": [
      "idx\n",
      "a      0\n",
      "b      5\n",
      "d     15\n",
      "c    100\n",
      "e    200\n",
      "dtype: float64\n"
     ]
    }
   ],
   "source": [
    "# Re-indexing the pandas series object\n",
    "s2 = s.reindex(['a','b','d','c','e'])\n",
    "print(s2)"
   ]
  },
  {
   "cell_type": "code",
   "execution_count": 24,
   "metadata": {},
   "outputs": [
    {
     "name": "stdout",
     "output_type": "stream",
     "text": [
      "idx\n",
      "a      0\n",
      "b      5\n",
      "d     15\n",
      "c    100\n",
      "e    200\n",
      "f      0\n",
      "g      0\n",
      "dtype: float64\n"
     ]
    }
   ],
   "source": [
    "# Reindexing elements and filling in missing values\n",
    "s3 = s.reindex(['a','b','d','c','e','f','g'], fill_value=0)\n",
    "print(s3)"
   ]
  },
  {
   "cell_type": "code",
   "execution_count": 70,
   "metadata": {},
   "outputs": [
    {
     "name": "stdout",
     "output_type": "stream",
     "text": [
      "\n",
      " S1:\n",
      "a    7.3\n",
      "c   -2.5\n",
      "d    3.4\n",
      "e    1.5\n",
      "dtype: float64 \n",
      " S2:\n",
      "a   -2.1\n",
      "c    3.6\n",
      "e   -1.5\n",
      "f    4.0\n",
      "g    3.1\n",
      "dtype: float64\n",
      "Addition without fill values\n",
      "a    5.2\n",
      "c    1.1\n",
      "d    NaN\n",
      "e    0.0\n",
      "f    NaN\n",
      "g    NaN\n",
      "dtype: float64\n",
      "With fill values specified\n",
      "a    5.2\n",
      "c    1.1\n",
      "d    3.4\n",
      "e    0.0\n",
      "f    4.0\n",
      "g    3.1\n",
      "dtype: float64\n"
     ]
    }
   ],
   "source": [
    "#Series Arithmetic\n",
    "s1 = pd.Series([7.3, -2.5, 3.4, 1.5], index=['a', 'c', 'd', 'e'])\n",
    "s2 = pd.Series([-2.1, 3.6, -1.5, 4, 3.1], index=['a', 'c', 'e', 'f', 'g'])\n",
    "\n",
    "print(\"\\n S1:\\n{0} \\n S2:\\n{1}\".format(s1,s2))\n",
    "print(\"Addition without fill values\")\n",
    "print(s1+s2)\n",
    "\n",
    "print(\"With fillvalue=0 specified\")\n",
    "print (s1.add(s2, fill_value=0))"
   ]
  },
  {
   "cell_type": "markdown",
   "metadata": {},
   "source": [
    "### Applying functions on a series"
   ]
  },
  {
   "cell_type": "code",
   "execution_count": 25,
   "metadata": {},
   "outputs": [
    {
     "name": "stdout",
     "output_type": "stream",
     "text": [
      "\n",
      "Element Count: \n",
      " Counter({1: 3, 2: 3, 3: 3, 4: 1, 5: 1})\n",
      "\n",
      " Transforming a series using element wise processing\n",
      "0     1\n",
      "1     0\n",
      "2     0\n",
      "3     0\n",
      "4     1\n",
      "5     0\n",
      "6     0\n",
      "7     0\n",
      "8     0\n",
      "9     0\n",
      "10    1\n",
      "dtype: int64\n",
      "0     1\n",
      "1     0\n",
      "2     0\n",
      "3     0\n",
      "4     1\n",
      "5     0\n",
      "6     0\n",
      "7     0\n",
      "8     0\n",
      "9     0\n",
      "10    1\n",
      "dtype: int64\n"
     ]
    }
   ],
   "source": [
    "from collections import Counter\n",
    "\n",
    "s = pd.Series([1,2,3,2,1,3,4,5,3,2,1])\n",
    "\n",
    "# Applying a function on the entire series\n",
    "cnt = Counter(s)\n",
    "print(\"\\nElement Count: \\n\", cnt)\n",
    "\n",
    "\n",
    "# Applying a function on each element of the series\n",
    "# map works element-wise on a Series\n",
    "print (\"\\n Transforming a series using element wise processing\")\n",
    "print (s.map(lambda x: x if (x < 2 or x > 5) else 0) )\n",
    "\n",
    "print (s.apply(lambda x: x if (x < 2 or x > 5) else 0) )\n"
   ]
  },
  {
   "cell_type": "markdown",
   "metadata": {},
   "source": [
    "\n",
    "# Pandas DataFrame\n"
   ]
  },
  {
   "cell_type": "code",
   "execution_count": 2,
   "metadata": {},
   "outputs": [
    {
     "name": "stdout",
     "output_type": "stream",
     "text": [
      "\n",
      " ======== DataFrame =========== \n",
      "      a  b  c\n",
      "idx         \n",
      "0    0  1  2\n",
      "1    3  4  5\n",
      "2    6  7  8\n"
     ]
    }
   ],
   "source": [
    "# Creating a dataframe\n",
    "data = np.arange(9).reshape((3,3))\n",
    "\n",
    "df = pd.DataFrame(data=data, columns= ['a', 'b', 'c'])\n",
    "df.index.name = 'idx'\n",
    "print (\"\\n ======== DataFrame =========== \\n\", df)"
   ]
  },
  {
   "cell_type": "markdown",
   "metadata": {},
   "source": [
    "### Now we will see how to use row and column index (names or position) to slice dataframe"
   ]
  },
  {
   "cell_type": "code",
   "execution_count": 21,
   "metadata": {},
   "outputs": [
    {
     "name": "stdout",
     "output_type": "stream",
     "text": [
      "\n",
      " Printing 3rd row using iloc: \n",
      " a    6\n",
      "b    7\n",
      "c    8\n",
      "Name: 2, dtype: int64\n",
      "\n",
      " Printing 3rd row using loc: \n",
      " a    6\n",
      "b    7\n",
      "c    8\n",
      "Name: 2, dtype: int64\n",
      "\n",
      " Extracting rows 1 and 2 from the original dataframe\n",
      "     a  b  c\n",
      "idx         \n",
      "1    3  4  5\n",
      "2    6  7  8\n",
      "\n",
      " Accessing column index. When its just one column a series is returned\n",
      "idx\n",
      "0    0\n",
      "1    3\n",
      "2    6\n",
      "Name: a, dtype: int64\n",
      "\n",
      " Extracting a set of columns from a dataframe\n",
      "     a  b\n",
      "idx      \n",
      "0    0  1\n",
      "1    3  4\n",
      "2    6  7\n"
     ]
    }
   ],
   "source": [
    "# Accessing rows - we can use loc or iloc\n",
    "# loc method can be used to get rows (or columns) at a particular position based on labels from index\n",
    "# iloc method can get rows (or columns) at a particular position in index. It takes only integer \n",
    "print (\"\\n Printing 3rd row using iloc: \\n\", df.iloc[2])\n",
    "print (\"\\n Printing 3rd row using loc: \\n\", df.loc[2])\n",
    "\n",
    "print(\"\\n Extracting rows 1 and 2 from the original dataframe\")\n",
    "print(df.loc[1:2])\n",
    "\n",
    "print(\"\\n Accessing column index. When its just one column a series is returned\")\n",
    "print(df['a'])\n",
    "\n",
    "print(\"\\n Extracting a set of columns from a dataframe\")\n",
    "# More than one column indexes using list notation\n",
    "newDf = df[['a','b']]\n",
    "print(newDf)"
   ]
  },
  {
   "cell_type": "code",
   "execution_count": 41,
   "metadata": {},
   "outputs": [
    {
     "name": "stdout",
     "output_type": "stream",
     "text": [
      "   names  age\n",
      "0   John   35\n",
      "1  Kelly  377\n",
      "2    Bob   29\n"
     ]
    }
   ],
   "source": [
    "# ---------- Creating DF from dictionary of arrays ---- #\n",
    "df = pd.DataFrame({ \n",
    "   'name': ['John', 'Kelly', 'Bob'],\n",
    "   'score': [ 77, 26, 35],\n",
    "   'age' : [35, 37, 29]\n",
    "})\n",
    "\n",
    "print (df[['names', 'age']])"
   ]
  },
  {
   "cell_type": "code",
   "execution_count": 55,
   "metadata": {},
   "outputs": [
    {
     "name": "stdout",
     "output_type": "stream",
     "text": [
      "       BobM JohnK KellyC\n",
      "age      29    35     37\n",
      "names   Bob  John  Kelly\n",
      "scores  355    77     26\n"
     ]
    }
   ],
   "source": [
    "# ---------- Creating DF from dict of dictionaries ---- #\n",
    "# Note: The other dict keys will become columns\n",
    "df = pd.DataFrame( data = {\n",
    "      'JohnK' :  { 'name': 'John', 'score' : 77,  'age': 35 },\n",
    "      'KellyC':  { 'name': 'Kelly', 'score' : 26,  'age': 37 },\n",
    "      'BobM':    { 'name': 'Bob', 'score' : 355,  'age': 29 } \n",
    "})\n",
    "print (df)"
   ]
  },
  {
   "cell_type": "code",
   "execution_count": 63,
   "metadata": {},
   "outputs": [
    {
     "name": "stdout",
     "output_type": "stream",
     "text": [
      "    name  score\n",
      "0   John     77\n",
      "1  Kelly     26\n"
     ]
    }
   ],
   "source": [
    "df = pd.DataFrame({ \n",
    "   'name': ['John', 'Kelly', 'Bob'],\n",
    "   'score': [ 77, 26, 35],\n",
    "   'age' : [35, 37, 29]\n",
    "})\n",
    "\n",
    "# Filtering rows based on boolean array\n",
    "print( df.loc[df['age']>30, ['name','score']] )"
   ]
  },
  {
   "cell_type": "code",
   "execution_count": 74,
   "metadata": {},
   "outputs": [
    {
     "name": "stdout",
     "output_type": "stream",
     "text": [
      "   a  b  c\n",
      "0  0  0  0\n",
      "1  3  3  3\n",
      "2  6  6  6\n",
      "3  9  9  9\n"
     ]
    }
   ],
   "source": [
    "df = pd.DataFrame(np.arange(12).reshape(4,3), columns=list('abc'))\n",
    "print(df)\n",
    "\n",
    "s = df.ix[0]\n",
    "s\n",
    "\n",
    "print(df-s)"
   ]
  },
  {
   "cell_type": "markdown",
   "metadata": {},
   "source": [
    "## Applying functions"
   ]
  },
  {
   "cell_type": "code",
   "execution_count": 9,
   "metadata": {},
   "outputs": [
    {
     "name": "stdout",
     "output_type": "stream",
     "text": [
      "    a  b  c\n",
      "r1  0  1  2\n",
      "r2  3  4  5\n",
      "r3  6  7  8\n",
      "\n",
      "Row-wise max-min\n",
      "\n",
      "a    6\n",
      "b    6\n",
      "c    6\n",
      "dtype: int64\n",
      "\n",
      "Column-wise max-min\n",
      "\n",
      "r1    2\n",
      "r2    2\n",
      "r3    2\n",
      "dtype: int64\n"
     ]
    }
   ],
   "source": [
    "# Applying a function to a row or column\n",
    "\n",
    "df = pd.DataFrame(data=np.arange(9).reshape(3,3), columns=list('abc'), index=['r1','r2','r3'])\n",
    "print(df)\n",
    "\n",
    "# Apply a transformation function\n",
    "trnf = lambda x: x.max() - x.min()\n",
    "\n",
    "print (\"\\nRow-wise max-min\\n\")\n",
    "print (df.apply(trnf))\n",
    "\n",
    "print (\"\\nColumn-wise max-min\\n\")\n",
    "print (df.apply(trnf, axis=1))\n"
   ]
  },
  {
   "cell_type": "code",
   "execution_count": 11,
   "metadata": {},
   "outputs": [
    {
     "name": "stdout",
     "output_type": "stream",
     "text": [
      "\n",
      " Original DataFrame\n",
      "\n",
      "    a  b  c\n",
      "r1  0  1  2\n",
      "r2  3  4  5\n",
      "r3  6  7  8\n",
      "\n",
      "Row-wise max and min\n",
      "\n",
      "     a  b  c\n",
      "min  0  1  2\n",
      "max  6  7  8\n",
      "\n",
      "Column-wise max and min\n",
      "\n",
      "    min  max\n",
      "r1    0    2\n",
      "r2    3    5\n",
      "r3    6    8\n"
     ]
    }
   ],
   "source": [
    "# Finding the min or max of a row or column\n",
    "\n",
    "def minMax(x):\n",
    "    return pd.Series([x.min(), x.max()], index=['min', 'max'])\n",
    "\n",
    "print(\"\\n Original DataFrame\\n\")\n",
    "print(df)\n",
    "\n",
    "print (\"\\nRow-wise max and min\\n\")\n",
    "print (df.apply(minMax))\n",
    "\n",
    "print (\"\\nColumn-wise max and min\\n\")\n",
    "print (df.apply(minMax, axis=1))"
   ]
  },
  {
   "cell_type": "code",
   "execution_count": null,
   "metadata": {},
   "outputs": [],
   "source": []
  }
 ],
 "metadata": {
  "kernelspec": {
   "display_name": "Python 3",
   "language": "python",
   "name": "python3"
  },
  "language_info": {
   "codemirror_mode": {
    "name": "ipython",
    "version": 3
   },
   "file_extension": ".py",
   "mimetype": "text/x-python",
   "name": "python",
   "nbconvert_exporter": "python",
   "pygments_lexer": "ipython3",
   "version": "3.5.2"
  }
 },
 "nbformat": 4,
 "nbformat_minor": 2
}
