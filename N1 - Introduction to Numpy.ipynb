{
 "cells": [
  {
   "cell_type": "markdown",
   "metadata": {},
   "source": [
    "Python list have an array like representation. "
   ]
  },
  {
   "cell_type": "code",
   "execution_count": 1,
   "metadata": {},
   "outputs": [
    {
     "name": "stdout",
     "output_type": "stream",
     "text": [
      "[1, 2, 3, 5, 9, 1, 2, 3, 5, 9]\n"
     ]
    }
   ],
   "source": [
    "x = [1, 2, 3, 5, 9]\n",
    "\n",
    "print(x * 2)"
   ]
  },
  {
   "cell_type": "markdown",
   "metadata": {},
   "source": [
    "In the above example, multiplying 2 with the list just doubles the list content. It does not do element wise calculation. To do so, we may use the map function or a loop or list comprehension."
   ]
  },
  {
   "cell_type": "code",
   "execution_count": 5,
   "metadata": {},
   "outputs": [
    {
     "name": "stdout",
     "output_type": "stream",
     "text": [
      "map:  [2, 4, 6, 10, 18]\n",
      "list comprehension:  [2, 4, 6, 10, 18]\n"
     ]
    }
   ],
   "source": [
    "print (\"map: \", list (map(lambda n: n*2,  x )) )\n",
    "\n",
    "print (\"list comprehension: \", [n*2 for n in x] )"
   ]
  },
  {
   "cell_type": "markdown",
   "metadata": {},
   "source": [
    "Now we will look into numpy array and see how it handles element-wise calculation"
   ]
  },
  {
   "cell_type": "code",
   "execution_count": 6,
   "metadata": {},
   "outputs": [],
   "source": [
    "import numpy as np"
   ]
  },
  {
   "cell_type": "code",
   "execution_count": 7,
   "metadata": {},
   "outputs": [
    {
     "name": "stdout",
     "output_type": "stream",
     "text": [
      "[ 2  4  6 10 18]\n"
     ]
    }
   ],
   "source": [
    "x = np.array([1, 2, 3, 5, 9])\n",
    "print (x *2)"
   ]
  },
  {
   "cell_type": "markdown",
   "metadata": {},
   "source": [
    "Some of the key features provided by Numerical Python (numpy) library are:-\n",
    "* Fast, space-efficient multidimentional array called ndarray\n",
    "* Standard mathematical functions for fast operation on entire array without using loops\n",
    "* Tools for reading/writing array data to disk\n",
    "* Common array algorithms like sorting, unique, and set operations\n",
    "* Matrix representation and linear algebra operations\n",
    "\n",
    "\n",
    "Let's look at some of these functionality in more details\n",
    "\n",
    "## ndarray\n",
    "An ndarray is a multidimensional container for homogeneous data. All the elements must be the same type. Every array has a property called **shape** which is a tuple indicating the size of each dimension, and a property called **dtype** which is an object describing the data type of the array."
   ]
  },
  {
   "cell_type": "code",
   "execution_count": 17,
   "metadata": {},
   "outputs": [
    {
     "name": "stdout",
     "output_type": "stream",
     "text": [
      "\n",
      " * 1D array *\n",
      "[11 22 33]\n",
      "\n",
      " * 2D array * \n",
      "[[1 2 3]\n",
      " [4 5 6]]\n"
     ]
    }
   ],
   "source": [
    "print(\"\\n * 1D array *\")\n",
    "arr1D = np.array([ 11, 22, 33 ])\n",
    "print(arr1D)\n",
    "\n",
    "print(\"\\n * 2D array * \")\n",
    "arr2D = np.array([ [1,2,3], [4,5,6] ] )\n",
    "print(arr2D)"
   ]
  },
  {
   "cell_type": "markdown",
   "metadata": {},
   "source": [
    "The **array** function is used to create a NumPy array. It can convert input data, be it list, tuple, array, or other sequence type, to an ndarray.\n",
    "\n",
    "Nested sequences, like a list of equal-length lists, will be converted into a multidimensional array. \n",
    "\n",
    "Now, let's create an array with a defined shape and data type"
   ]
  },
  {
   "cell_type": "code",
   "execution_count": 32,
   "metadata": {},
   "outputs": [
    {
     "name": "stdout",
     "output_type": "stream",
     "text": [
      "shape:(1, 12) dtype:float64\n"
     ]
    }
   ],
   "source": [
    "print(\"shape:{0} dtype:{1}\".format(arr.shape, arr.dtype))"
   ]
  },
  {
   "cell_type": "markdown",
   "metadata": {},
   "source": [
    "### Special arrays : empty, zeros and ones\n",
    "\n",
    "In addition to the array function we have specialized functions to create arrays filled with 0's and 1's\n",
    "\n",
    "We can pass an integer to specify the number of elements in the array "
   ]
  },
  {
   "cell_type": "code",
   "execution_count": 44,
   "metadata": {},
   "outputs": [
    {
     "data": {
      "text/plain": [
       "array([ 0.,  0.,  0.,  0.,  0.])"
      ]
     },
     "execution_count": 44,
     "metadata": {},
     "output_type": "execute_result"
    }
   ],
   "source": [
    "# Create an array filled with 0's\n",
    "np.zeros(5)"
   ]
  },
  {
   "cell_type": "code",
   "execution_count": 43,
   "metadata": {},
   "outputs": [
    {
     "data": {
      "text/plain": [
       "array([ 1.,  1.,  1.])"
      ]
     },
     "execution_count": 43,
     "metadata": {},
     "output_type": "execute_result"
    }
   ],
   "source": [
    "# Create an array filled with 1's\n",
    "np.ones(3)"
   ]
  },
  {
   "cell_type": "markdown",
   "metadata": {},
   "source": [
    "We can create multidimentional versions of these arrays by specifying a **tuple** for the shape\n",
    "\n",
    "For a 2D array, shape needs to be specified as (row x col)"
   ]
  },
  {
   "cell_type": "code",
   "execution_count": 42,
   "metadata": {},
   "outputs": [
    {
     "data": {
      "text/plain": [
       "array([[ 0.,  0.],\n",
       "       [ 0.,  0.],\n",
       "       [ 0.,  0.]])"
      ]
     },
     "execution_count": 42,
     "metadata": {},
     "output_type": "execute_result"
    }
   ],
   "source": [
    "np.zeros((3,2))"
   ]
  },
  {
   "cell_type": "markdown",
   "metadata": {},
   "source": [
    "We create an n-dimentional array using a shape tuple of the form ( n-instances , rows per instance, col per instance)"
   ]
  },
  {
   "cell_type": "code",
   "execution_count": 47,
   "metadata": {},
   "outputs": [
    {
     "data": {
      "text/plain": [
       "array([[[ 1.,  1.,  1.,  1.],\n",
       "        [ 1.,  1.,  1.,  1.],\n",
       "        [ 1.,  1.,  1.,  1.]],\n",
       "\n",
       "       [[ 1.,  1.,  1.,  1.],\n",
       "        [ 1.,  1.,  1.,  1.],\n",
       "        [ 1.,  1.,  1.,  1.]]])"
      ]
     },
     "execution_count": 47,
     "metadata": {},
     "output_type": "execute_result"
    }
   ],
   "source": [
    "np.ones((2, 3, 4))"
   ]
  },
  {
   "cell_type": "markdown",
   "metadata": {},
   "source": [
    "There are few more ways to create arrays\n",
    "\n",
    "* empty()    : Return a new array of given shape and type, without initializing entries.\n",
    "* identity() : Return the identity array.\n",
    "* full()     : Return the identity array.\n",
    "* eye()      : Return a 2-D array with ones on the diagonal and zeros elsewhere."
   ]
  },
  {
   "cell_type": "code",
   "execution_count": 52,
   "metadata": {},
   "outputs": [
    {
     "data": {
      "text/plain": [
       "array([[5, 5, 5],\n",
       "       [5, 5, 5]], dtype=int32)"
      ]
     },
     "execution_count": 52,
     "metadata": {},
     "output_type": "execute_result"
    }
   ],
   "source": [
    "# We create a 2x3 array filled with int value of 5 in each cell\n",
    "np.full((2,3), 5, np.int32)"
   ]
  },
  {
   "cell_type": "markdown",
   "metadata": {},
   "source": [
    "## NumPy Datatypes\n",
    "\n",
    "The data type or dtype is a special object containing the information the ndarray needs to interpret a chunk of memory as a particular type of data. The numerical dtypes are named the same way: a **type name**, like float or int , followed by a number indicating the **number of bits per element**.\n",
    "\n",
    "Example: **np.int32** for a 32bit integer, **np.float64** to represent a 64 bit floating point or **np.complex128** which would be a 128 bit complex floating-point number.\n",
    "\n",
    "You can get more details at https://docs.scipy.org/doc/numpy-1.13.0/reference/arrays.dtypes.html"
   ]
  },
  {
   "cell_type": "code",
   "execution_count": 59,
   "metadata": {},
   "outputs": [
    {
     "name": "stdout",
     "output_type": "stream",
     "text": [
      "Python-compatible floating-point number:  float64\n",
      "Python-compatible integer:  int64\n",
      "Python object:  object\n",
      "byte:  int8\n",
      "big-endian unsigned short:  >u2\n",
      "little-endian single-precision float:  float32\n",
      "double-precision floating-point number:  float64\n",
      "32 bit unsigned int:  uint32\n",
      "64 bit floating-point number:  float64\n"
     ]
    }
   ],
   "source": [
    "dt = np.dtype(float)   # Python-compatible floating-point number\n",
    "print(\"Python-compatible floating-point number: \", dt)\n",
    "\n",
    "dt = np.dtype(int)     # Python-compatible integer\n",
    "print(\"Python-compatible integer: \", dt)\n",
    "\n",
    "dt = np.dtype(object)  # Python object\n",
    "print(\"Python object: \", dt)\n",
    "\n",
    "dt = np.dtype('b')  # byte, native byte order\n",
    "print(\"byte: \", dt)\n",
    "\n",
    "dt = np.dtype('>H') # big-endian unsigned short\n",
    "print(\"big-endian unsigned short: \", dt)\n",
    "\n",
    "dt = np.dtype('<f') # little-endian single-precision float\n",
    "print(\"little-endian single-precision float: \", dt)\n",
    "\n",
    "dt = np.dtype('d')  # double-precision floating-point number\n",
    "print(\"double-precision floating-point number: \", dt)\n",
    "\n",
    "dt = np.dtype('uint32')   # 32-bit unsigned integer\n",
    "print(\"32 bit unsigned int: \", dt)\n",
    "\n",
    "dt = np.dtype('Float64')  # 64-bit floating-point number\n",
    "print(\"64 bit floating-point number: \", dt)\n"
   ]
  },
  {
   "cell_type": "code",
   "execution_count": 62,
   "metadata": {},
   "outputs": [
    {
     "data": {
      "text/plain": [
       "array([[1, 2, 3],\n",
       "       [4, 5, 6]], dtype=uint32)"
      ]
     },
     "execution_count": 62,
     "metadata": {},
     "output_type": "execute_result"
    }
   ],
   "source": [
    "# Specifying datatype while creating array\n",
    "arr = np.array([ [1,2,3], [4,5,6] ] , np.uint32)\n",
    "arr"
   ]
  },
  {
   "cell_type": "markdown",
   "metadata": {},
   "source": [
    "We can explicitly convert or cast an array from one dtype to another using ndarray’s **astype** method\n",
    "\n",
    "A TypeError will be raised in case the casting fails."
   ]
  },
  {
   "cell_type": "code",
   "execution_count": 63,
   "metadata": {},
   "outputs": [
    {
     "data": {
      "text/plain": [
       "array([[ 1.,  2.,  3.],\n",
       "       [ 4.,  5.,  6.]], dtype=float32)"
      ]
     },
     "execution_count": 63,
     "metadata": {},
     "output_type": "execute_result"
    }
   ],
   "source": [
    "arr.astype(np.float32)"
   ]
  },
  {
   "cell_type": "markdown",
   "metadata": {},
   "source": [
    "## Vectorization"
   ]
  },
  {
   "cell_type": "markdown",
   "metadata": {},
   "source": [
    "Arrays are important because they enable you to express batch operations on data without writing any for loops. This is usually called vectorization. Any arithmetic operations between equal-size arrays applies the operation elementwise like we saw in the starting example."
   ]
  },
  {
   "cell_type": "code",
   "execution_count": 71,
   "metadata": {},
   "outputs": [
    {
     "data": {
      "text/plain": [
       "array([ 2,  4,  6, 10, 18])"
      ]
     },
     "execution_count": 71,
     "metadata": {},
     "output_type": "execute_result"
    }
   ],
   "source": [
    "arr = np.array([1, 2, 3, 5, 9])\n",
    "\n",
    "# Scalar multiplication\n",
    "dbl = arr *2\n",
    "dbl"
   ]
  },
  {
   "cell_type": "code",
   "execution_count": 69,
   "metadata": {},
   "outputs": [
    {
     "data": {
      "text/plain": [
       "array([ 1,  4,  9, 25, 81])"
      ]
     },
     "execution_count": 69,
     "metadata": {},
     "output_type": "execute_result"
    }
   ],
   "source": [
    "# Creating a square by multiplying individual elements\n",
    "sqr = arr * arr\n",
    "sqr"
   ]
  },
  {
   "cell_type": "code",
   "execution_count": 77,
   "metadata": {},
   "outputs": [
    {
     "data": {
      "text/plain": [
       "array([ 1,  4,  9, 25, 81])"
      ]
     },
     "execution_count": 77,
     "metadata": {},
     "output_type": "execute_result"
    }
   ],
   "source": [
    "# We could have done this\n",
    "arr ** 2"
   ]
  },
  {
   "cell_type": "code",
   "execution_count": 72,
   "metadata": {},
   "outputs": [
    {
     "data": {
      "text/plain": [
       "array([1, 2, 3, 5, 9])"
      ]
     },
     "execution_count": 72,
     "metadata": {},
     "output_type": "execute_result"
    }
   ],
   "source": [
    "dbl - arr"
   ]
  },
  {
   "cell_type": "code",
   "execution_count": 73,
   "metadata": {},
   "outputs": [
    {
     "data": {
      "text/plain": [
       "array([ 1.,  2.,  3.,  5.,  9.])"
      ]
     },
     "execution_count": 73,
     "metadata": {},
     "output_type": "execute_result"
    }
   ],
   "source": [
    "sqr / arr"
   ]
  },
  {
   "cell_type": "code",
   "execution_count": 75,
   "metadata": {},
   "outputs": [
    {
     "data": {
      "text/plain": [
       "array([ 1.,  2.,  3.,  5.,  9.])"
      ]
     },
     "execution_count": 75,
     "metadata": {},
     "output_type": "execute_result"
    }
   ],
   "source": [
    "# Get the square root\n",
    "sqr ** 0.5"
   ]
  },
  {
   "cell_type": "code",
   "execution_count": 78,
   "metadata": {},
   "outputs": [
    {
     "data": {
      "text/plain": [
       "array([ 1.        ,  0.5       ,  0.33333333,  0.2       ,  0.11111111])"
      ]
     },
     "execution_count": 78,
     "metadata": {},
     "output_type": "execute_result"
    }
   ],
   "source": [
    "1 / arr"
   ]
  },
  {
   "cell_type": "code",
   "execution_count": null,
   "metadata": {},
   "outputs": [],
   "source": []
  }
 ],
 "metadata": {
  "kernelspec": {
   "display_name": "Python 3",
   "language": "python",
   "name": "python3"
  },
  "language_info": {
   "codemirror_mode": {
    "name": "ipython",
    "version": 3
   },
   "file_extension": ".py",
   "mimetype": "text/x-python",
   "name": "python",
   "nbconvert_exporter": "python",
   "pygments_lexer": "ipython3",
   "version": "3.5.2"
  }
 },
 "nbformat": 4,
 "nbformat_minor": 2
}
