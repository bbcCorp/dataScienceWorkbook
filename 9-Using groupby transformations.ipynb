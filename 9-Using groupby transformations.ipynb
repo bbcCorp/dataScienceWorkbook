{
 "cells": [
  {
   "cell_type": "code",
   "execution_count": 7,
   "metadata": {},
   "outputs": [],
   "source": [
    "import pandas as pd"
   ]
  },
  {
   "cell_type": "code",
   "execution_count": 8,
   "metadata": {},
   "outputs": [
    {
     "data": {
      "text/html": [
       "<div>\n",
       "<table border=\"1\" class=\"dataframe\">\n",
       "  <thead>\n",
       "    <tr style=\"text-align: right;\">\n",
       "      <th></th>\n",
       "      <th>City</th>\n",
       "      <th>Edition</th>\n",
       "      <th>Sport</th>\n",
       "      <th>Discipline</th>\n",
       "      <th>Athlete</th>\n",
       "      <th>NOC</th>\n",
       "      <th>Gender</th>\n",
       "      <th>Event</th>\n",
       "      <th>Event_gender</th>\n",
       "      <th>Medal</th>\n",
       "    </tr>\n",
       "  </thead>\n",
       "  <tbody>\n",
       "    <tr>\n",
       "      <th>0</th>\n",
       "      <td>Athens</td>\n",
       "      <td>1896</td>\n",
       "      <td>Aquatics</td>\n",
       "      <td>Swimming</td>\n",
       "      <td>HAJOS, Alfred</td>\n",
       "      <td>HUN</td>\n",
       "      <td>Men</td>\n",
       "      <td>100m freestyle</td>\n",
       "      <td>M</td>\n",
       "      <td>Gold</td>\n",
       "    </tr>\n",
       "    <tr>\n",
       "      <th>1</th>\n",
       "      <td>Athens</td>\n",
       "      <td>1896</td>\n",
       "      <td>Aquatics</td>\n",
       "      <td>Swimming</td>\n",
       "      <td>HERSCHMANN, Otto</td>\n",
       "      <td>AUT</td>\n",
       "      <td>Men</td>\n",
       "      <td>100m freestyle</td>\n",
       "      <td>M</td>\n",
       "      <td>Silver</td>\n",
       "    </tr>\n",
       "    <tr>\n",
       "      <th>2</th>\n",
       "      <td>Athens</td>\n",
       "      <td>1896</td>\n",
       "      <td>Aquatics</td>\n",
       "      <td>Swimming</td>\n",
       "      <td>DRIVAS, Dimitrios</td>\n",
       "      <td>GRE</td>\n",
       "      <td>Men</td>\n",
       "      <td>100m freestyle for sailors</td>\n",
       "      <td>M</td>\n",
       "      <td>Bronze</td>\n",
       "    </tr>\n",
       "    <tr>\n",
       "      <th>3</th>\n",
       "      <td>Athens</td>\n",
       "      <td>1896</td>\n",
       "      <td>Aquatics</td>\n",
       "      <td>Swimming</td>\n",
       "      <td>MALOKINIS, Ioannis</td>\n",
       "      <td>GRE</td>\n",
       "      <td>Men</td>\n",
       "      <td>100m freestyle for sailors</td>\n",
       "      <td>M</td>\n",
       "      <td>Gold</td>\n",
       "    </tr>\n",
       "    <tr>\n",
       "      <th>4</th>\n",
       "      <td>Athens</td>\n",
       "      <td>1896</td>\n",
       "      <td>Aquatics</td>\n",
       "      <td>Swimming</td>\n",
       "      <td>CHASAPIS, Spiridon</td>\n",
       "      <td>GRE</td>\n",
       "      <td>Men</td>\n",
       "      <td>100m freestyle for sailors</td>\n",
       "      <td>M</td>\n",
       "      <td>Silver</td>\n",
       "    </tr>\n",
       "  </tbody>\n",
       "</table>\n",
       "</div>"
      ],
      "text/plain": [
       "     City  Edition     Sport Discipline             Athlete  NOC Gender  \\\n",
       "0  Athens     1896  Aquatics   Swimming       HAJOS, Alfred  HUN    Men   \n",
       "1  Athens     1896  Aquatics   Swimming    HERSCHMANN, Otto  AUT    Men   \n",
       "2  Athens     1896  Aquatics   Swimming   DRIVAS, Dimitrios  GRE    Men   \n",
       "3  Athens     1896  Aquatics   Swimming  MALOKINIS, Ioannis  GRE    Men   \n",
       "4  Athens     1896  Aquatics   Swimming  CHASAPIS, Spiridon  GRE    Men   \n",
       "\n",
       "                        Event Event_gender   Medal  \n",
       "0              100m freestyle            M    Gold  \n",
       "1              100m freestyle            M  Silver  \n",
       "2  100m freestyle for sailors            M  Bronze  \n",
       "3  100m freestyle for sailors            M    Gold  \n",
       "4  100m freestyle for sailors            M  Silver  "
      ]
     },
     "execution_count": 8,
     "metadata": {},
     "output_type": "execute_result"
    }
   ],
   "source": [
    "# Let's load some data about summer olympics \n",
    "oly = pd.read_csv('./data/summerOlympics/data.csv')\n",
    "oly.head()"
   ]
  },
  {
   "cell_type": "code",
   "execution_count": 9,
   "metadata": {},
   "outputs": [
    {
     "data": {
      "text/plain": [
       "USA    4335\n",
       "URS    2049\n",
       "GBR    1594\n",
       "FRA    1314\n",
       "ITA    1228\n",
       "GER    1211\n",
       "AUS    1075\n",
       "HUN    1053\n",
       "SWE    1021\n",
       "GDR     825\n",
       "Name: NOC, dtype: int64"
      ]
     },
     "execution_count": 9,
     "metadata": {},
     "output_type": "execute_result"
    }
   ],
   "source": [
    "# Let's see which are the top 10 countries \n",
    "oly['NOC'].value_counts().head(10)"
   ]
  },
  {
   "cell_type": "code",
   "execution_count": 10,
   "metadata": {},
   "outputs": [
    {
     "data": {
      "text/html": [
       "<div>\n",
       "<table border=\"1\" class=\"dataframe\">\n",
       "  <thead>\n",
       "    <tr style=\"text-align: right;\">\n",
       "      <th></th>\n",
       "      <th>Country</th>\n",
       "      <th>ISO code</th>\n",
       "      <th>Country.1</th>\n",
       "    </tr>\n",
       "    <tr>\n",
       "      <th>Int Olympic Committee code</th>\n",
       "      <th></th>\n",
       "      <th></th>\n",
       "      <th></th>\n",
       "    </tr>\n",
       "  </thead>\n",
       "  <tbody>\n",
       "    <tr>\n",
       "      <th>AFG</th>\n",
       "      <td>Afghanistan</td>\n",
       "      <td>AF</td>\n",
       "      <td>Afghanistan</td>\n",
       "    </tr>\n",
       "    <tr>\n",
       "      <th>ALB</th>\n",
       "      <td>Albania</td>\n",
       "      <td>AL</td>\n",
       "      <td>Albania</td>\n",
       "    </tr>\n",
       "    <tr>\n",
       "      <th>ALG</th>\n",
       "      <td>Algeria</td>\n",
       "      <td>DZ</td>\n",
       "      <td>Algeria</td>\n",
       "    </tr>\n",
       "    <tr>\n",
       "      <th>ASA</th>\n",
       "      <td>American Samoa*</td>\n",
       "      <td>AS</td>\n",
       "      <td>American Samoa*</td>\n",
       "    </tr>\n",
       "    <tr>\n",
       "      <th>AND</th>\n",
       "      <td>Andorra</td>\n",
       "      <td>AD</td>\n",
       "      <td>Andorra</td>\n",
       "    </tr>\n",
       "  </tbody>\n",
       "</table>\n",
       "</div>"
      ],
      "text/plain": [
       "                                    Country ISO code        Country.1\n",
       "Int Olympic Committee code                                           \n",
       "AFG                             Afghanistan       AF      Afghanistan\n",
       "ALB                                 Albania       AL          Albania\n",
       "ALG                                 Algeria       DZ          Algeria\n",
       "ASA                         American Samoa*       AS  American Samoa*\n",
       "AND                                 Andorra       AD          Andorra"
      ]
     },
     "execution_count": 10,
     "metadata": {},
     "output_type": "execute_result"
    }
   ],
   "source": [
    "noc = pd.read_csv('./data/summerOlympics/countryCodes.csv', index_col='Int Olympic Committee code')\n",
    "noc.head()"
   ]
  },
  {
   "cell_type": "code",
   "execution_count": 11,
   "metadata": {},
   "outputs": [
    {
     "data": {
      "text/html": [
       "<div>\n",
       "<table border=\"1\" class=\"dataframe\">\n",
       "  <thead>\n",
       "    <tr style=\"text-align: right;\">\n",
       "      <th></th>\n",
       "      <th>City</th>\n",
       "      <th>Edition</th>\n",
       "      <th>Sport</th>\n",
       "      <th>Discipline</th>\n",
       "      <th>Athlete</th>\n",
       "      <th>NOC</th>\n",
       "      <th>Gender</th>\n",
       "      <th>Event</th>\n",
       "      <th>Event_gender</th>\n",
       "      <th>Medal</th>\n",
       "      <th>Country</th>\n",
       "    </tr>\n",
       "  </thead>\n",
       "  <tbody>\n",
       "    <tr>\n",
       "      <th>0</th>\n",
       "      <td>Athens</td>\n",
       "      <td>1896</td>\n",
       "      <td>Aquatics</td>\n",
       "      <td>Swimming</td>\n",
       "      <td>HAJOS, Alfred</td>\n",
       "      <td>HUN</td>\n",
       "      <td>Men</td>\n",
       "      <td>100m freestyle</td>\n",
       "      <td>M</td>\n",
       "      <td>Gold</td>\n",
       "      <td>Hungary</td>\n",
       "    </tr>\n",
       "    <tr>\n",
       "      <th>1</th>\n",
       "      <td>Athens</td>\n",
       "      <td>1896</td>\n",
       "      <td>Aquatics</td>\n",
       "      <td>Swimming</td>\n",
       "      <td>HERSCHMANN, Otto</td>\n",
       "      <td>AUT</td>\n",
       "      <td>Men</td>\n",
       "      <td>100m freestyle</td>\n",
       "      <td>M</td>\n",
       "      <td>Silver</td>\n",
       "      <td>Austria</td>\n",
       "    </tr>\n",
       "    <tr>\n",
       "      <th>2</th>\n",
       "      <td>Athens</td>\n",
       "      <td>1896</td>\n",
       "      <td>Aquatics</td>\n",
       "      <td>Swimming</td>\n",
       "      <td>DRIVAS, Dimitrios</td>\n",
       "      <td>GRE</td>\n",
       "      <td>Men</td>\n",
       "      <td>100m freestyle for sailors</td>\n",
       "      <td>M</td>\n",
       "      <td>Bronze</td>\n",
       "      <td>Greece</td>\n",
       "    </tr>\n",
       "    <tr>\n",
       "      <th>3</th>\n",
       "      <td>Athens</td>\n",
       "      <td>1896</td>\n",
       "      <td>Aquatics</td>\n",
       "      <td>Swimming</td>\n",
       "      <td>MALOKINIS, Ioannis</td>\n",
       "      <td>GRE</td>\n",
       "      <td>Men</td>\n",
       "      <td>100m freestyle for sailors</td>\n",
       "      <td>M</td>\n",
       "      <td>Gold</td>\n",
       "      <td>Greece</td>\n",
       "    </tr>\n",
       "    <tr>\n",
       "      <th>4</th>\n",
       "      <td>Athens</td>\n",
       "      <td>1896</td>\n",
       "      <td>Aquatics</td>\n",
       "      <td>Swimming</td>\n",
       "      <td>CHASAPIS, Spiridon</td>\n",
       "      <td>GRE</td>\n",
       "      <td>Men</td>\n",
       "      <td>100m freestyle for sailors</td>\n",
       "      <td>M</td>\n",
       "      <td>Silver</td>\n",
       "      <td>Greece</td>\n",
       "    </tr>\n",
       "  </tbody>\n",
       "</table>\n",
       "</div>"
      ],
      "text/plain": [
       "     City  Edition     Sport Discipline             Athlete  NOC Gender  \\\n",
       "0  Athens     1896  Aquatics   Swimming       HAJOS, Alfred  HUN    Men   \n",
       "1  Athens     1896  Aquatics   Swimming    HERSCHMANN, Otto  AUT    Men   \n",
       "2  Athens     1896  Aquatics   Swimming   DRIVAS, Dimitrios  GRE    Men   \n",
       "3  Athens     1896  Aquatics   Swimming  MALOKINIS, Ioannis  GRE    Men   \n",
       "4  Athens     1896  Aquatics   Swimming  CHASAPIS, Spiridon  GRE    Men   \n",
       "\n",
       "                        Event Event_gender   Medal  Country  \n",
       "0              100m freestyle            M    Gold  Hungary  \n",
       "1              100m freestyle            M  Silver  Austria  \n",
       "2  100m freestyle for sailors            M  Bronze   Greece  \n",
       "3  100m freestyle for sailors            M    Gold   Greece  \n",
       "4  100m freestyle for sailors            M  Silver   Greece  "
      ]
     },
     "execution_count": 11,
     "metadata": {},
     "output_type": "execute_result"
    }
   ],
   "source": [
    "def lookup(ccode):\n",
    "    if ccode in noc.index:\n",
    "        return noc.loc[ccode, 'Country']\n",
    "    else:\n",
    "        return None\n",
    "\n",
    "oly['Country'] = oly['NOC'].apply(lookup)\n",
    "oly.head()"
   ]
  },
  {
   "cell_type": "code",
   "execution_count": 12,
   "metadata": {},
   "outputs": [
    {
     "data": {
      "text/plain": [
       "array([], dtype=object)"
      ]
     },
     "execution_count": 12,
     "metadata": {},
     "output_type": "execute_result"
    }
   ],
   "source": [
    "# Now let's look if we have any holes in the country column\n",
    "filt = oly['Country'].isnull() \n",
    "oly[filt]['NOC'].unique()"
   ]
  },
  {
   "cell_type": "code",
   "execution_count": 13,
   "metadata": {},
   "outputs": [
    {
     "data": {
      "text/plain": [
       "Sport              Discipline     \n",
       "Aquatics           Diving              356\n",
       "                   Swimming           2439\n",
       "                   Synchronized S.     153\n",
       "                   Water polo          880\n",
       "Archery            Archery             305\n",
       "Athletics          Athletics          3448\n",
       "Badminton          Badminton           120\n",
       "Baseball           Baseball            335\n",
       "Basketball         Basketball          940\n",
       "Basque Pelota      Basque Pelota         4\n",
       "Boxing             Boxing              842\n",
       "Canoe / Kayak      Canoe / Kayak F     912\n",
       "                   Canoe / Kayak S      90\n",
       "Cricket            Cricket              24\n",
       "Croquet            Croquet               8\n",
       "Cycling            BMX                   6\n",
       "                   Cycling Road        303\n",
       "                   Cycling Track       692\n",
       "                   Mountain Bike        24\n",
       "Equestrian         Dressage            255\n",
       "                   Eventing            313\n",
       "                   Jumping             312\n",
       "                   Vaulting             14\n",
       "Fencing            Fencing            1547\n",
       "Football           Football           1387\n",
       "Golf               Golf                 30\n",
       "Gymnastics         Artistic G.        2103\n",
       "                   Rhythmic G.          93\n",
       "                   Trampoline           18\n",
       "Handball           Handball            886\n",
       "Hockey             Hockey             1325\n",
       "Ice Hockey         Ice Hockey           27\n",
       "Jeu de paume       Jeu de Paume          3\n",
       "Judo               Judo                435\n",
       "Lacrosse           Lacrosse             59\n",
       "Modern Pentathlon  Modern Pentath.     174\n",
       "Polo               Polo                 66\n",
       "Rackets            Rackets              10\n",
       "Roque              Roque                 3\n",
       "Rowing             Rowing             2523\n",
       "Rugby              Rugby               192\n",
       "Sailing            Sailing            1061\n",
       "Shooting           Shooting           1105\n",
       "Skating            Figure skating       27\n",
       "Softball           Softball            180\n",
       "Table Tennis       Table Tennis        120\n",
       "Taekwondo          Taekwondo            80\n",
       "Tennis             Tennis              272\n",
       "Triathlon          Triathlon            18\n",
       "Tug of War         Tug of War           94\n",
       "Volleyball         Beach volley.        48\n",
       "                   Volleyball          862\n",
       "Water Motorsports  Water Motorspor       5\n",
       "Weightlifting      Weightlifting       548\n",
       "Wrestling          Wrestling Free.     591\n",
       "                   Wrestling Gre-R     549\n",
       "Name: Medal, dtype: int64"
      ]
     },
     "execution_count": 13,
     "metadata": {},
     "output_type": "execute_result"
    }
   ],
   "source": [
    "# Let's see the breakup of medals by sport and discipline\n",
    "oly.groupby(['Sport', 'Discipline']).count()['Medal']"
   ]
  },
  {
   "cell_type": "code",
   "execution_count": 14,
   "metadata": {},
   "outputs": [
    {
     "data": {
      "text/plain": [
       "NOC\n",
       "USA    4335\n",
       "URS    2049\n",
       "GBR    1594\n",
       "FRA    1314\n",
       "ITA    1228\n",
       "GER    1211\n",
       "AUS    1075\n",
       "HUN    1053\n",
       "SWE    1021\n",
       "GDR     825\n",
       "NED     782\n",
       "JPN     704\n",
       "CHN     679\n",
       "RUS     638\n",
       "ROU     624\n",
       "Name: Country, dtype: int64"
      ]
     },
     "execution_count": 14,
     "metadata": {},
     "output_type": "execute_result"
    }
   ],
   "source": [
    "# We want to see the top 15 countries \n",
    "oly.groupby('NOC')['Country'].count().sort_values(ascending=False).head(15)"
   ]
  },
  {
   "cell_type": "code",
   "execution_count": 15,
   "metadata": {},
   "outputs": [
    {
     "data": {
      "text/plain": [
       "Event                     Country                                      \n",
       "100m backstroke           Australia                                         7\n",
       "                          Austria                                           1\n",
       "                          Belgium                                           1\n",
       "                          Canada                                            4\n",
       "                          Cuba                                              2\n",
       "                          Denmark                                           2\n",
       "                          East Germany                                     10\n",
       "                          France                                            4\n",
       "                          Germany                                           7\n",
       "                          Hungary                                           5\n",
       "                          Japan                                             8\n",
       "                          Netherlands                                       5\n",
       "                          New Zealand                                       1\n",
       "                          Romania                                           1\n",
       "                          Russia                                            1\n",
       "                          South Africa                                      2\n",
       "                          Soviet Union                                      3\n",
       "                          Spain                                             1\n",
       "                          Sweden                                            1\n",
       "                          United Kingdom                                    8\n",
       "                          United States                                    54\n",
       "                          Zimbabwe                                          2\n",
       "100m breaststroke         Australia                                        10\n",
       "                          Austria                                           1\n",
       "                          Belgium                                           1\n",
       "                          Bulgaria                                          2\n",
       "                          Canada                                            2\n",
       "                          China                                             1\n",
       "                          Denmark                                           1\n",
       "                          East Germany                                      3\n",
       "                                                                           ..\n",
       "50m freestyle             International Olympic Committee Unified Team      1\n",
       "                          Netherlands                                       3\n",
       "                          Russia                                            1\n",
       "                          South Africa                                      1\n",
       "                          Soviet Union                                      1\n",
       "                          Sweden                                            1\n",
       "                          United States                                    13\n",
       "50y freestyle (45.72m)    Hungary                                           1\n",
       "                          United States                                     2\n",
       "800m freestyle            Australia                                         4\n",
       "                          Denmark                                           1\n",
       "                          East Germany                                      4\n",
       "                          France                                            1\n",
       "                          Germany                                           2\n",
       "                          Italy                                             2\n",
       "                          Japan                                             1\n",
       "                          Mexico                                            1\n",
       "                          Netherlands                                       1\n",
       "                          Ukraine                                           1\n",
       "                          United Kingdom                                    2\n",
       "                          United States                                    13\n",
       "880y freestyle (804.66m)  Germany                                           1\n",
       "                          Hungary                                           1\n",
       "                          United States                                     1\n",
       "marathon 10km             Germany                                           1\n",
       "                          Netherlands                                       1\n",
       "                          Russia                                            1\n",
       "                          United Kingdom                                    3\n",
       "underwater swimming       Denmark                                           1\n",
       "                          France                                            2\n",
       "Name: Country, dtype: int64"
      ]
     },
     "execution_count": 15,
     "metadata": {},
     "output_type": "execute_result"
    }
   ],
   "source": [
    "# We can see the breakup of medals by event and country for a particular discipline using a multi-column grouping\n",
    "filt = oly['Discipline']=='Swimming'\n",
    "oly[filt].groupby(['Event','Country'])['Country'].count()"
   ]
  },
  {
   "cell_type": "code",
   "execution_count": 17,
   "metadata": {},
   "outputs": [
    {
     "data": {
      "text/plain": [
       "Event          Country                                      \n",
       "50m freestyle  United States                                    13\n",
       "               China                                             4\n",
       "               Netherlands                                       3\n",
       "               France                                            3\n",
       "               Germany                                           2\n",
       "               East Germany                                      2\n",
       "               Brazil                                            2\n",
       "               Australia                                         2\n",
       "               Sweden                                            1\n",
       "               Soviet Union                                      1\n",
       "               South Africa                                      1\n",
       "               Russia                                            1\n",
       "               International Olympic Committee Unified Team      1\n",
       "               Croatia                                           1\n",
       "Name: Country, dtype: int64"
      ]
     },
     "execution_count": 17,
     "metadata": {},
     "output_type": "execute_result"
    }
   ],
   "source": [
    "# Countries that won most medals in 50m freestyle\n",
    "filt = (oly['Discipline']=='Swimming') & (oly['Event']== '50m freestyle') \n",
    "oly[filt].groupby(['Event','Country'])['Country'].count().sort_values(ascending=False)"
   ]
  },
  {
   "cell_type": "code",
   "execution_count": 37,
   "metadata": {},
   "outputs": [
    {
     "data": {
      "text/plain": [
       "NOC\n",
       "USA    34\n",
       "GBR    31\n",
       "FRA    28\n",
       "GER    26\n",
       "CHN    24\n",
       "AUS    22\n",
       "ESP    22\n",
       "CAN    22\n",
       "SWE    21\n",
       "URS    21\n",
       "Name: Sport, dtype: int64"
      ]
     },
     "execution_count": 37,
     "metadata": {},
     "output_type": "execute_result"
    }
   ],
   "source": [
    "# Let's find the top 10 countries by the number of distinct sports where they have won medals\n",
    "oly.groupby('NOC')['Sport'].nunique().sort_values(ascending=False).head(10)"
   ]
  },
  {
   "cell_type": "code",
   "execution_count": 39,
   "metadata": {},
   "outputs": [
    {
     "data": {
      "text/plain": [
       "NOC\n",
       "GBR    31\n",
       "FRA    28\n",
       "ITA    21\n",
       "Name: Sport, dtype: int64"
      ]
     },
     "execution_count": 39,
     "metadata": {},
     "output_type": "execute_result"
    }
   ],
   "source": [
    "# You can check the above for a list of countries\n",
    "filt = oly.NOC.isin(['GBR', 'FRA', 'ITA'])\n",
    "oly.loc[filt].groupby('NOC')['Sport'].nunique().sort_values(ascending=False)"
   ]
  },
  {
   "cell_type": "code",
   "execution_count": 40,
   "metadata": {},
   "outputs": [
    {
     "data": {
      "image/png": "[encoded data removed]",
      "text/plain": [
       "<matplotlib.figure.Figure at 0x7f7b0d8b4ef0>"
      ]
     },
     "metadata": {},
     "output_type": "display_data"
    }
   ],
   "source": [
    "# Plotting country medals by year\n",
    "import matplotlib.pyplot as plt\n",
    "%matplotlib inline\n",
    "\n",
    "usa = oly[ oly['NOC'] == 'USA']\n",
    "\n",
    "# Group usa by ['Edition', 'Medal'] and aggregate over 'Athlete'\n",
    "usa_medals_by_year = usa.groupby(['Edition', 'Medal'])['Athlete'].count()\n",
    "\n",
    "# Reshape usa_medals_by_year by unstacking\n",
    "usa_medals_by_year = usa_medals_by_year.unstack(level='Medal')\n",
    "\n",
    "# Plot the DataFrame usa_medals_by_year\n",
    "usa_medals_by_year.plot()\n",
    "plt.show()"
   ]
  },
  {
   "cell_type": "code",
   "execution_count": 41,
   "metadata": {},
   "outputs": [
    {
     "name": "stderr",
     "output_type": "stream",
     "text": [
      "/usr/lib/python3/dist-packages/pandas/core/internals.py:3239: VisibleDeprecationWarning: converting an array with ndim > 0 to an index will result in an error in the future\n",
      "  block = self.blocks[self._blknos[i]]\n"
     ]
    },
    {
     "data": {
      "image/png": "[encoded data removed]",
      "text/plain": [
       "<matplotlib.figure.Figure at 0x7f7b0ff0ae80>"
      ]
     },
     "metadata": {},
     "output_type": "display_data"
    }
   ],
   "source": [
    "# Let's create a categorical index to fix the medal order\n",
    "oly.Medal = pd.Categorical(values=oly.Medal, categories=['Bronze', 'Silver', 'Gold'], ordered=True)\n",
    "\n",
    "usa = oly[ oly['NOC'] == 'USA']\n",
    "\n",
    "# Group usa by ['Edition', 'Medal'] and aggregate over 'Athlete'\n",
    "usa_medals_by_year = usa.groupby(['Edition', 'Medal'])['Athlete'].count()\n",
    "\n",
    "# Reshape usa_medals_by_year by unstacking\n",
    "usa_medals_by_year = usa_medals_by_year.unstack(level='Medal')\n",
    "\n",
    "# Plot the DataFrame usa_medals_by_year\n",
    "usa_medals_by_year.plot()\n",
    "plt.show()"
   ]
  },
  {
   "cell_type": "code",
   "execution_count": null,
   "metadata": {},
   "outputs": [],
   "source": []
  }
 ],
 "metadata": {
  "kernelspec": {
   "display_name": "Python 3",
   "language": "python",
   "name": "python3"
  },
  "language_info": {
   "codemirror_mode": {
    "name": "ipython",
    "version": 3
   },
   "file_extension": ".py",
   "mimetype": "text/x-python",
   "name": "python",
   "nbconvert_exporter": "python",
   "pygments_lexer": "ipython3",
   "version": "3.5.2"
  }
 },
 "nbformat": 4,
 "nbformat_minor": 2
}
