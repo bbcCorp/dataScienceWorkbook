{
 "cells": [
  {
   "cell_type": "code",
   "execution_count": 97,
   "metadata": {
    "collapsed": true
   },
   "outputs": [],
   "source": [
    "import pandas as pd"
   ]
  },
  {
   "cell_type": "markdown",
   "metadata": {},
   "source": [
    "In this exercise, we will use a stock dataset and see how we can utilize an index comprising of more than one column."
   ]
  },
  {
   "cell_type": "code",
   "execution_count": 98,
   "metadata": {
    "collapsed": false
   },
   "outputs": [
    {
     "name": "stdout",
     "output_type": "stream",
     "text": [
      "              AAPL   GOOG\n",
      "Date                     \n",
      "2017-10-11  3300.5  300.5\n",
      "2017-11-13  3129.0  329.0\n",
      "2017-11-24  3319.7  319.7\n",
      "2017-12-10  2987.5  287.5\n",
      "DatetimeIndex(['2017-10-11', '2017-11-13', '2017-11-24', '2017-12-10'], dtype='datetime64[ns]', name=u'Date', freq=None)\n"
     ]
    }
   ],
   "source": [
    "dates = pd.to_datetime( [ '11-Oct-2017', '13-Nov-2017', '24-Nov-2017', '10-Dec-2017'])\n",
    "g_prices = [ 300.5, 329.0, 319.7, 287.5 ]\n",
    "a_prices = [ 3300.5, 3129.0, 3319.7, 2987.5 ]\n",
    "\n",
    "data = {\n",
    "    'GOOG' : { d: p for d,p in zip(dates, g_prices) },\n",
    "    'AAPL'  : { d: p for d,p in zip(dates, a_prices) }, \n",
    "    }\n",
    "\n",
    "df = pd.DataFrame(data)\n",
    "df.index.name = 'Date'\n",
    "print(df)\n",
    "print(df.index)"
   ]
  },
  {
   "cell_type": "markdown",
   "metadata": {},
   "source": [
    "Now suppose we want to see this data in a slightly different format. We want the data to be stored using a combination of stock and dates as index. We can do that using a MultiIndex\n",
    "\n",
    "## Multilevel Index"
   ]
  },
  {
   "cell_type": "code",
   "execution_count": 99,
   "metadata": {
    "collapsed": false
   },
   "outputs": [
    {
     "data": {
      "text/html": [
       "<div>\n",
       "<table border=\"1\" class=\"dataframe\">\n",
       "  <thead>\n",
       "    <tr style=\"text-align: right;\">\n",
       "      <th></th>\n",
       "      <th></th>\n",
       "      <th>price</th>\n",
       "    </tr>\n",
       "    <tr>\n",
       "      <th>stock</th>\n",
       "      <th>date</th>\n",
       "      <th></th>\n",
       "    </tr>\n",
       "  </thead>\n",
       "  <tbody>\n",
       "    <tr>\n",
       "      <th rowspan=\"4\" valign=\"top\">GOOG</th>\n",
       "      <th>2017-10-11</th>\n",
       "      <td>300.5</td>\n",
       "    </tr>\n",
       "    <tr>\n",
       "      <th>2017-11-13</th>\n",
       "      <td>329.0</td>\n",
       "    </tr>\n",
       "    <tr>\n",
       "      <th>2017-11-24</th>\n",
       "      <td>319.7</td>\n",
       "    </tr>\n",
       "    <tr>\n",
       "      <th>2017-12-10</th>\n",
       "      <td>287.5</td>\n",
       "    </tr>\n",
       "    <tr>\n",
       "      <th rowspan=\"4\" valign=\"top\">AAPL</th>\n",
       "      <th>2017-10-11</th>\n",
       "      <td>3300.5</td>\n",
       "    </tr>\n",
       "    <tr>\n",
       "      <th>2017-11-13</th>\n",
       "      <td>3129.0</td>\n",
       "    </tr>\n",
       "    <tr>\n",
       "      <th>2017-11-24</th>\n",
       "      <td>3319.7</td>\n",
       "    </tr>\n",
       "    <tr>\n",
       "      <th>2017-12-10</th>\n",
       "      <td>2987.5</td>\n",
       "    </tr>\n",
       "  </tbody>\n",
       "</table>\n",
       "</div>"
      ],
      "text/plain": [
       "                   price\n",
       "stock date              \n",
       "GOOG  2017-10-11   300.5\n",
       "      2017-11-13   329.0\n",
       "      2017-11-24   319.7\n",
       "      2017-12-10   287.5\n",
       "AAPL  2017-10-11  3300.5\n",
       "      2017-11-13  3129.0\n",
       "      2017-11-24  3319.7\n",
       "      2017-12-10  2987.5"
      ]
     },
     "execution_count": 99,
     "metadata": {},
     "output_type": "execute_result"
    }
   ],
   "source": [
    "prices = { 'price': g_prices  + a_prices }\n",
    "\n",
    "# Lets create a MultiIndex from a list of tuples\n",
    "stockIndex = pd.MultiIndex.from_tuples ( [(stock,d) for stock in ['GOOG', 'AAPL'] for d in dates ] )\n",
    "\n",
    "df = pd.DataFrame(data=prices, index= stockIndex)\n",
    "df.index.names = ['stock', 'date']\n",
    "df"
   ]
  },
  {
   "cell_type": "code",
   "execution_count": 100,
   "metadata": {
    "collapsed": false
   },
   "outputs": [
    {
     "data": {
      "text/plain": [
       "MultiIndex(levels=[[u'AAPL', u'GOOG'], [2017-10-11 00:00:00, 2017-11-13 00:00:00, 2017-11-24 00:00:00, 2017-12-10 00:00:00]],\n",
       "           labels=[[1, 1, 1, 1, 0, 0, 0, 0], [0, 1, 2, 3, 0, 1, 2, 3]],\n",
       "           names=[u'stock', u'date'])"
      ]
     },
     "execution_count": 100,
     "metadata": {},
     "output_type": "execute_result"
    }
   ],
   "source": [
    "# Now let's see what kind of index is used for this DataFrame\n",
    "df.index"
   ]
  },
  {
   "cell_type": "code",
   "execution_count": 101,
   "metadata": {
    "collapsed": false
   },
   "outputs": [
    {
     "data": {
      "text/html": [
       "<div>\n",
       "<table border=\"1\" class=\"dataframe\">\n",
       "  <thead>\n",
       "    <tr style=\"text-align: right;\">\n",
       "      <th></th>\n",
       "      <th></th>\n",
       "      <th>price</th>\n",
       "    </tr>\n",
       "    <tr>\n",
       "      <th>stock</th>\n",
       "      <th>date</th>\n",
       "      <th></th>\n",
       "    </tr>\n",
       "  </thead>\n",
       "  <tbody>\n",
       "    <tr>\n",
       "      <th rowspan=\"4\" valign=\"top\">AAPL</th>\n",
       "      <th>2017-10-11</th>\n",
       "      <td>3300.5</td>\n",
       "    </tr>\n",
       "    <tr>\n",
       "      <th>2017-11-13</th>\n",
       "      <td>3129.0</td>\n",
       "    </tr>\n",
       "    <tr>\n",
       "      <th>2017-11-24</th>\n",
       "      <td>3319.7</td>\n",
       "    </tr>\n",
       "    <tr>\n",
       "      <th>2017-12-10</th>\n",
       "      <td>2987.5</td>\n",
       "    </tr>\n",
       "    <tr>\n",
       "      <th rowspan=\"4\" valign=\"top\">GOOG</th>\n",
       "      <th>2017-10-11</th>\n",
       "      <td>300.5</td>\n",
       "    </tr>\n",
       "    <tr>\n",
       "      <th>2017-11-13</th>\n",
       "      <td>329.0</td>\n",
       "    </tr>\n",
       "    <tr>\n",
       "      <th>2017-11-24</th>\n",
       "      <td>319.7</td>\n",
       "    </tr>\n",
       "    <tr>\n",
       "      <th>2017-12-10</th>\n",
       "      <td>287.5</td>\n",
       "    </tr>\n",
       "  </tbody>\n",
       "</table>\n",
       "</div>"
      ],
      "text/plain": [
       "                   price\n",
       "stock date              \n",
       "AAPL  2017-10-11  3300.5\n",
       "      2017-11-13  3129.0\n",
       "      2017-11-24  3319.7\n",
       "      2017-12-10  2987.5\n",
       "GOOG  2017-10-11   300.5\n",
       "      2017-11-13   329.0\n",
       "      2017-11-24   319.7\n",
       "      2017-12-10   287.5"
      ]
     },
     "execution_count": 101,
     "metadata": {},
     "output_type": "execute_result"
    }
   ],
   "source": [
    "# Now let's sort the hierarchical index\n",
    "df = df.sort_index()\n",
    "df"
   ]
  },
  {
   "cell_type": "markdown",
   "metadata": {},
   "source": [
    "## Slicing DataFrame using multilevel index"
   ]
  },
  {
   "cell_type": "code",
   "execution_count": 102,
   "metadata": {
    "collapsed": false
   },
   "outputs": [
    {
     "data": {
      "text/html": [
       "<div>\n",
       "<table border=\"1\" class=\"dataframe\">\n",
       "  <thead>\n",
       "    <tr style=\"text-align: right;\">\n",
       "      <th></th>\n",
       "      <th>price</th>\n",
       "    </tr>\n",
       "    <tr>\n",
       "      <th>date</th>\n",
       "      <th></th>\n",
       "    </tr>\n",
       "  </thead>\n",
       "  <tbody>\n",
       "    <tr>\n",
       "      <th>2017-10-11</th>\n",
       "      <td>300.5</td>\n",
       "    </tr>\n",
       "    <tr>\n",
       "      <th>2017-11-13</th>\n",
       "      <td>329.0</td>\n",
       "    </tr>\n",
       "    <tr>\n",
       "      <th>2017-11-24</th>\n",
       "      <td>319.7</td>\n",
       "    </tr>\n",
       "    <tr>\n",
       "      <th>2017-12-10</th>\n",
       "      <td>287.5</td>\n",
       "    </tr>\n",
       "  </tbody>\n",
       "</table>\n",
       "</div>"
      ],
      "text/plain": [
       "            price\n",
       "date             \n",
       "2017-10-11  300.5\n",
       "2017-11-13  329.0\n",
       "2017-11-24  319.7\n",
       "2017-12-10  287.5"
      ]
     },
     "execution_count": 102,
     "metadata": {},
     "output_type": "execute_result"
    }
   ],
   "source": [
    "# We can use loc to read data from a dataframe with multi-dimentional index\n",
    "\n",
    "# Let's get all records for Google\n",
    "df.loc['GOOG']"
   ]
  },
  {
   "cell_type": "markdown",
   "metadata": {},
   "source": [
    "This method uses the outermost index to slice the data"
   ]
  },
  {
   "cell_type": "code",
   "execution_count": 103,
   "metadata": {
    "collapsed": false
   },
   "outputs": [
    {
     "data": {
      "text/html": [
       "<div>\n",
       "<table border=\"1\" class=\"dataframe\">\n",
       "  <thead>\n",
       "    <tr style=\"text-align: right;\">\n",
       "      <th></th>\n",
       "      <th>price</th>\n",
       "    </tr>\n",
       "    <tr>\n",
       "      <th>date</th>\n",
       "      <th></th>\n",
       "    </tr>\n",
       "  </thead>\n",
       "  <tbody>\n",
       "    <tr>\n",
       "      <th>2017-10-11</th>\n",
       "      <td>300.5</td>\n",
       "    </tr>\n",
       "    <tr>\n",
       "      <th>2017-11-13</th>\n",
       "      <td>329.0</td>\n",
       "    </tr>\n",
       "    <tr>\n",
       "      <th>2017-11-24</th>\n",
       "      <td>319.7</td>\n",
       "    </tr>\n",
       "    <tr>\n",
       "      <th>2017-12-10</th>\n",
       "      <td>287.5</td>\n",
       "    </tr>\n",
       "  </tbody>\n",
       "</table>\n",
       "</div>"
      ],
      "text/plain": [
       "            price\n",
       "date             \n",
       "2017-10-11  300.5\n",
       "2017-11-13  329.0\n",
       "2017-11-24  319.7\n",
       "2017-12-10  287.5"
      ]
     },
     "execution_count": 103,
     "metadata": {},
     "output_type": "execute_result"
    }
   ],
   "source": [
    "# We can also use the tuple notation to get the same record\n",
    "df.loc[('GOOG')]"
   ]
  },
  {
   "cell_type": "code",
   "execution_count": 104,
   "metadata": {
    "collapsed": false
   },
   "outputs": [
    {
     "data": {
      "text/plain": [
       "price    300.5\n",
       "Name: (GOOG, 2017-10-11 00:00:00), dtype: float64"
      ]
     },
     "execution_count": 104,
     "metadata": {},
     "output_type": "execute_result"
    }
   ],
   "source": [
    "# Now lets get a specific day's record\n",
    "df.loc[('GOOG', '2017-10-11')]"
   ]
  },
  {
   "cell_type": "code",
   "execution_count": 105,
   "metadata": {
    "collapsed": false
   },
   "outputs": [
    {
     "data": {
      "text/plain": [
       "stock  date      \n",
       "GOOG   2017-10-11    300.5\n",
       "Name: price, dtype: float64"
      ]
     },
     "execution_count": 105,
     "metadata": {},
     "output_type": "execute_result"
    }
   ],
   "source": [
    "# To get the price for that day, we can specify the column to be extracted\n",
    "# That will extract a single element from the data table \n",
    "df.loc[('GOOG', '2017-10-11'), 'price']"
   ]
  },
  {
   "cell_type": "code",
   "execution_count": 106,
   "metadata": {
    "collapsed": false
   },
   "outputs": [
    {
     "name": "stdout",
     "output_type": "stream",
     "text": [
      "\n",
      " Using Range Syntax : \n",
      "                   price\n",
      "stock date              \n",
      "AAPL  2017-10-11  3300.5\n",
      "      2017-11-13  3129.0\n",
      "      2017-11-24  3319.7\n",
      "      2017-12-10  2987.5\n",
      "GOOG  2017-10-11   300.5\n",
      "      2017-11-13   329.0\n",
      "      2017-11-24   319.7\n",
      "      2017-12-10   287.5\n",
      "\n",
      "\n",
      " Using Array notation : \n",
      "                   price\n",
      "stock date              \n",
      "AAPL  2017-10-11  3300.5\n",
      "      2017-11-13  3129.0\n",
      "      2017-11-24  3319.7\n",
      "      2017-12-10  2987.5\n",
      "GOOG  2017-10-11   300.5\n",
      "      2017-11-13   329.0\n",
      "      2017-11-24   319.7\n",
      "      2017-12-10   287.5\n",
      "\n",
      "\n",
      " Using Array notation and specific column filter: \n"
     ]
    },
    {
     "data": {
      "text/plain": [
       "stock  date      \n",
       "AAPL   2017-10-11    3300.5\n",
       "GOOG   2017-10-11     300.5\n",
       "Name: price, dtype: float64"
      ]
     },
     "execution_count": 106,
     "metadata": {},
     "output_type": "execute_result"
    }
   ],
   "source": [
    "# Once we have a sorted hierarchical index, we do a variety of slicing\n",
    "\n",
    "# We can use a range syntax\n",
    "print(\"\\n Using Range Syntax : \")\n",
    "print( df.loc['AAPL':'GOOG'] )\n",
    "\n",
    "# We can pass an array of keys\n",
    "print(\"\\n\\n Using Array notation : \") \n",
    "print( df.loc[(['AAPL','GOOG'])] )\n",
    "\n",
    "print(\"\\n\\n Using Array notation and specific column filter: \") \n",
    "df.loc[(['AAPL','GOOG'], '2017-10-11'), 'price' ]"
   ]
  },
  {
   "cell_type": "code",
   "execution_count": 107,
   "metadata": {
    "collapsed": false
   },
   "outputs": [
    {
     "data": {
      "text/html": [
       "<div>\n",
       "<table border=\"1\" class=\"dataframe\">\n",
       "  <thead>\n",
       "    <tr style=\"text-align: right;\">\n",
       "      <th></th>\n",
       "      <th></th>\n",
       "      <th>price</th>\n",
       "    </tr>\n",
       "    <tr>\n",
       "      <th>stock</th>\n",
       "      <th>date</th>\n",
       "      <th></th>\n",
       "    </tr>\n",
       "  </thead>\n",
       "  <tbody>\n",
       "    <tr>\n",
       "      <th rowspan=\"2\" valign=\"top\">AAPL</th>\n",
       "      <th>2017-10-11</th>\n",
       "      <td>3300.5</td>\n",
       "    </tr>\n",
       "    <tr>\n",
       "      <th>2017-12-10</th>\n",
       "      <td>2987.5</td>\n",
       "    </tr>\n",
       "  </tbody>\n",
       "</table>\n",
       "</div>"
      ],
      "text/plain": [
       "                   price\n",
       "stock date              \n",
       "AAPL  2017-10-11  3300.5\n",
       "      2017-12-10  2987.5"
      ]
     },
     "execution_count": 107,
     "metadata": {},
     "output_type": "execute_result"
    }
   ],
   "source": [
    "# This sort of indexing also works for the inner index\n",
    "filterdates = [ '2017-10-11', '2017-12-10' ]\n",
    "df.loc[('AAPL', filterdates ), :]"
   ]
  },
  {
   "cell_type": "code",
   "execution_count": 115,
   "metadata": {
    "collapsed": false
   },
   "outputs": [
    {
     "data": {
      "text/html": [
       "<div>\n",
       "<table border=\"1\" class=\"dataframe\">\n",
       "  <thead>\n",
       "    <tr style=\"text-align: right;\">\n",
       "      <th></th>\n",
       "      <th></th>\n",
       "      <th>price</th>\n",
       "    </tr>\n",
       "    <tr>\n",
       "      <th>stock</th>\n",
       "      <th>date</th>\n",
       "      <th></th>\n",
       "    </tr>\n",
       "  </thead>\n",
       "  <tbody>\n",
       "    <tr>\n",
       "      <th>AAPL</th>\n",
       "      <th>2017-10-11</th>\n",
       "      <td>3300.5</td>\n",
       "    </tr>\n",
       "    <tr>\n",
       "      <th>GOOG</th>\n",
       "      <th>2017-10-11</th>\n",
       "      <td>300.5</td>\n",
       "    </tr>\n",
       "  </tbody>\n",
       "</table>\n",
       "</div>"
      ],
      "text/plain": [
       "                   price\n",
       "stock date              \n",
       "AAPL  2017-10-11  3300.5\n",
       "GOOG  2017-10-11   300.5"
      ]
     },
     "execution_count": 115,
     "metadata": {},
     "output_type": "execute_result"
    }
   ],
   "source": [
    "# Now let's look at the scenario where we want to slice the DataFrame using only the innermost index\n",
    "df.loc[ ( slice(None), '2017-10-11'), : ]"
   ]
  },
  {
   "cell_type": "code",
   "execution_count": 109,
   "metadata": {
    "collapsed": false
   },
   "outputs": [
    {
     "data": {
      "text/html": [
       "<div>\n",
       "<table border=\"1\" class=\"dataframe\">\n",
       "  <thead>\n",
       "    <tr style=\"text-align: right;\">\n",
       "      <th></th>\n",
       "      <th></th>\n",
       "      <th>price</th>\n",
       "    </tr>\n",
       "    <tr>\n",
       "      <th>stock</th>\n",
       "      <th>date</th>\n",
       "      <th></th>\n",
       "    </tr>\n",
       "  </thead>\n",
       "  <tbody>\n",
       "    <tr>\n",
       "      <th rowspan=\"3\" valign=\"top\">AAPL</th>\n",
       "      <th>2017-10-11</th>\n",
       "      <td>3300.5</td>\n",
       "    </tr>\n",
       "    <tr>\n",
       "      <th>2017-11-13</th>\n",
       "      <td>3129.0</td>\n",
       "    </tr>\n",
       "    <tr>\n",
       "      <th>2017-11-24</th>\n",
       "      <td>3319.7</td>\n",
       "    </tr>\n",
       "    <tr>\n",
       "      <th rowspan=\"3\" valign=\"top\">GOOG</th>\n",
       "      <th>2017-10-11</th>\n",
       "      <td>300.5</td>\n",
       "    </tr>\n",
       "    <tr>\n",
       "      <th>2017-11-13</th>\n",
       "      <td>329.0</td>\n",
       "    </tr>\n",
       "    <tr>\n",
       "      <th>2017-11-24</th>\n",
       "      <td>319.7</td>\n",
       "    </tr>\n",
       "  </tbody>\n",
       "</table>\n",
       "</div>"
      ],
      "text/plain": [
       "                   price\n",
       "stock date              \n",
       "AAPL  2017-10-11  3300.5\n",
       "      2017-11-13  3129.0\n",
       "      2017-11-24  3319.7\n",
       "GOOG  2017-10-11   300.5\n",
       "      2017-11-13   329.0\n",
       "      2017-11-24   319.7"
      ]
     },
     "execution_count": 109,
     "metadata": {},
     "output_type": "execute_result"
    }
   ],
   "source": [
    "# To select a range of dates we can use the following syntax\n",
    "df.loc[ ( slice(None), slice('2017-10-11', '2017-11-24')), : ]"
   ]
  },
  {
   "cell_type": "markdown",
   "metadata": {},
   "source": [
    "## swaplevel\n",
    "\n",
    "swaplevel can be used to rearrange the order of the levels "
   ]
  },
  {
   "cell_type": "code",
   "execution_count": 112,
   "metadata": {
    "collapsed": false
   },
   "outputs": [
    {
     "data": {
      "text/html": [
       "<div>\n",
       "<table border=\"1\" class=\"dataframe\">\n",
       "  <thead>\n",
       "    <tr style=\"text-align: right;\">\n",
       "      <th></th>\n",
       "      <th></th>\n",
       "      <th>price</th>\n",
       "    </tr>\n",
       "    <tr>\n",
       "      <th>date</th>\n",
       "      <th>stock</th>\n",
       "      <th></th>\n",
       "    </tr>\n",
       "  </thead>\n",
       "  <tbody>\n",
       "    <tr>\n",
       "      <th>2017-10-11</th>\n",
       "      <th>AAPL</th>\n",
       "      <td>3300.5</td>\n",
       "    </tr>\n",
       "    <tr>\n",
       "      <th>2017-11-13</th>\n",
       "      <th>AAPL</th>\n",
       "      <td>3129.0</td>\n",
       "    </tr>\n",
       "    <tr>\n",
       "      <th>2017-11-24</th>\n",
       "      <th>AAPL</th>\n",
       "      <td>3319.7</td>\n",
       "    </tr>\n",
       "    <tr>\n",
       "      <th>2017-12-10</th>\n",
       "      <th>AAPL</th>\n",
       "      <td>2987.5</td>\n",
       "    </tr>\n",
       "    <tr>\n",
       "      <th>2017-10-11</th>\n",
       "      <th>GOOG</th>\n",
       "      <td>300.5</td>\n",
       "    </tr>\n",
       "    <tr>\n",
       "      <th>2017-11-13</th>\n",
       "      <th>GOOG</th>\n",
       "      <td>329.0</td>\n",
       "    </tr>\n",
       "    <tr>\n",
       "      <th>2017-11-24</th>\n",
       "      <th>GOOG</th>\n",
       "      <td>319.7</td>\n",
       "    </tr>\n",
       "    <tr>\n",
       "      <th>2017-12-10</th>\n",
       "      <th>GOOG</th>\n",
       "      <td>287.5</td>\n",
       "    </tr>\n",
       "  </tbody>\n",
       "</table>\n",
       "</div>"
      ],
      "text/plain": [
       "                   price\n",
       "date       stock        \n",
       "2017-10-11 AAPL   3300.5\n",
       "2017-11-13 AAPL   3129.0\n",
       "2017-11-24 AAPL   3319.7\n",
       "2017-12-10 AAPL   2987.5\n",
       "2017-10-11 GOOG    300.5\n",
       "2017-11-13 GOOG    329.0\n",
       "2017-11-24 GOOG    319.7\n",
       "2017-12-10 GOOG    287.5"
      ]
     },
     "execution_count": 112,
     "metadata": {},
     "output_type": "execute_result"
    }
   ],
   "source": [
    "# We can swap the index level using the function swaplevel\n",
    "df2 = df.swaplevel('date', 'stock')\n",
    "df2"
   ]
  },
  {
   "cell_type": "markdown",
   "metadata": {},
   "source": [
    "## sortlevel\n",
    "\n",
    "sortlevel can be used to sort the data (stably) using only the values in a single level."
   ]
  },
  {
   "cell_type": "code",
   "execution_count": 111,
   "metadata": {
    "collapsed": false
   },
   "outputs": [
    {
     "data": {
      "text/html": [
       "<div>\n",
       "<table border=\"1\" class=\"dataframe\">\n",
       "  <thead>\n",
       "    <tr style=\"text-align: right;\">\n",
       "      <th></th>\n",
       "      <th></th>\n",
       "      <th>price</th>\n",
       "    </tr>\n",
       "    <tr>\n",
       "      <th>date</th>\n",
       "      <th>stock</th>\n",
       "      <th></th>\n",
       "    </tr>\n",
       "  </thead>\n",
       "  <tbody>\n",
       "    <tr>\n",
       "      <th rowspan=\"2\" valign=\"top\">2017-10-11</th>\n",
       "      <th>AAPL</th>\n",
       "      <td>3300.5</td>\n",
       "    </tr>\n",
       "    <tr>\n",
       "      <th>GOOG</th>\n",
       "      <td>300.5</td>\n",
       "    </tr>\n",
       "    <tr>\n",
       "      <th rowspan=\"2\" valign=\"top\">2017-11-13</th>\n",
       "      <th>AAPL</th>\n",
       "      <td>3129.0</td>\n",
       "    </tr>\n",
       "    <tr>\n",
       "      <th>GOOG</th>\n",
       "      <td>329.0</td>\n",
       "    </tr>\n",
       "    <tr>\n",
       "      <th rowspan=\"2\" valign=\"top\">2017-11-24</th>\n",
       "      <th>AAPL</th>\n",
       "      <td>3319.7</td>\n",
       "    </tr>\n",
       "    <tr>\n",
       "      <th>GOOG</th>\n",
       "      <td>319.7</td>\n",
       "    </tr>\n",
       "    <tr>\n",
       "      <th rowspan=\"2\" valign=\"top\">2017-12-10</th>\n",
       "      <th>AAPL</th>\n",
       "      <td>2987.5</td>\n",
       "    </tr>\n",
       "    <tr>\n",
       "      <th>GOOG</th>\n",
       "      <td>287.5</td>\n",
       "    </tr>\n",
       "  </tbody>\n",
       "</table>\n",
       "</div>"
      ],
      "text/plain": [
       "                   price\n",
       "date       stock        \n",
       "2017-10-11 AAPL   3300.5\n",
       "           GOOG    300.5\n",
       "2017-11-13 AAPL   3129.0\n",
       "           GOOG    329.0\n",
       "2017-11-24 AAPL   3319.7\n",
       "           GOOG    319.7\n",
       "2017-12-10 AAPL   2987.5\n",
       "           GOOG    287.5"
      ]
     },
     "execution_count": 111,
     "metadata": {},
     "output_type": "execute_result"
    }
   ],
   "source": [
    "df2.sortlevel(0)"
   ]
  },
  {
   "cell_type": "code",
   "execution_count": 113,
   "metadata": {
    "collapsed": false
   },
   "outputs": [
    {
     "data": {
      "text/html": [
       "<div>\n",
       "<table border=\"1\" class=\"dataframe\">\n",
       "  <thead>\n",
       "    <tr style=\"text-align: right;\">\n",
       "      <th></th>\n",
       "      <th></th>\n",
       "      <th>price</th>\n",
       "    </tr>\n",
       "    <tr>\n",
       "      <th>date</th>\n",
       "      <th>stock</th>\n",
       "      <th></th>\n",
       "    </tr>\n",
       "  </thead>\n",
       "  <tbody>\n",
       "    <tr>\n",
       "      <th>2017-10-11</th>\n",
       "      <th>AAPL</th>\n",
       "      <td>3300.5</td>\n",
       "    </tr>\n",
       "    <tr>\n",
       "      <th>2017-11-13</th>\n",
       "      <th>AAPL</th>\n",
       "      <td>3129.0</td>\n",
       "    </tr>\n",
       "    <tr>\n",
       "      <th>2017-11-24</th>\n",
       "      <th>AAPL</th>\n",
       "      <td>3319.7</td>\n",
       "    </tr>\n",
       "    <tr>\n",
       "      <th>2017-12-10</th>\n",
       "      <th>AAPL</th>\n",
       "      <td>2987.5</td>\n",
       "    </tr>\n",
       "    <tr>\n",
       "      <th>2017-10-11</th>\n",
       "      <th>GOOG</th>\n",
       "      <td>300.5</td>\n",
       "    </tr>\n",
       "    <tr>\n",
       "      <th>2017-11-13</th>\n",
       "      <th>GOOG</th>\n",
       "      <td>329.0</td>\n",
       "    </tr>\n",
       "    <tr>\n",
       "      <th>2017-11-24</th>\n",
       "      <th>GOOG</th>\n",
       "      <td>319.7</td>\n",
       "    </tr>\n",
       "    <tr>\n",
       "      <th>2017-12-10</th>\n",
       "      <th>GOOG</th>\n",
       "      <td>287.5</td>\n",
       "    </tr>\n",
       "  </tbody>\n",
       "</table>\n",
       "</div>"
      ],
      "text/plain": [
       "                   price\n",
       "date       stock        \n",
       "2017-10-11 AAPL   3300.5\n",
       "2017-11-13 AAPL   3129.0\n",
       "2017-11-24 AAPL   3319.7\n",
       "2017-12-10 AAPL   2987.5\n",
       "2017-10-11 GOOG    300.5\n",
       "2017-11-13 GOOG    329.0\n",
       "2017-11-24 GOOG    319.7\n",
       "2017-12-10 GOOG    287.5"
      ]
     },
     "execution_count": 113,
     "metadata": {},
     "output_type": "execute_result"
    }
   ],
   "source": [
    "df2.sortlevel(1)"
   ]
  },
  {
   "cell_type": "code",
   "execution_count": null,
   "metadata": {
    "collapsed": true
   },
   "outputs": [],
   "source": []
  }
 ],
 "metadata": {
  "anaconda-cloud": {},
  "kernelspec": {
   "display_name": "Python [Root]",
   "language": "python",
   "name": "Python [Root]"
  },
  "language_info": {
   "codemirror_mode": {
    "name": "ipython",
    "version": 2
   },
   "file_extension": ".py",
   "mimetype": "text/x-python",
   "name": "python",
   "nbconvert_exporter": "python",
   "pygments_lexer": "ipython2",
   "version": "2.7.13"
  }
 },
 "nbformat": 4,
 "nbformat_minor": 0
}
